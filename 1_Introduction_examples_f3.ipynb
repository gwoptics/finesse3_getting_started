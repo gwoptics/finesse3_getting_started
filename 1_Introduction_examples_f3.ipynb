{
 "cells": [
  {
   "cell_type": "code",
   "execution_count": 30,
   "metadata": {},
   "outputs": [],
   "source": [
    "import finesse\n",
    "\n",
    "import matplotlib\n",
    "import matplotlib.pyplot as plt\n",
    "import numpy as np\n",
    "import math\n",
    "\n",
    "# This notebook requires the following files\n",
    "# nodal_network.svg, model_sketch.svg, fabry-perot02.svg, michelson_with_nodes.svg\n",
    "\n",
    "# apply plotting styles\n",
    "finesse.init_plotting()"
   ]
  },
  {
   "cell_type": "markdown",
   "metadata": {},
   "source": [
    "# Interferometry for Graviational Waves  \n",
    "A hands-on workshop at the <a href=\"https://www.supa.ac.uk/research/sussp73.php\">73rd Scottish Universities Summer School in Physics</a>, Andreas Freise and Daniel Brown, 28.07.2017, adapted for Finesse 3."
   ]
  },
  {
   "cell_type": "markdown",
   "metadata": {},
   "source": [
    "This is the first notebook for the simulation workshop this week. The aim of the session is to introduce you to modelling gravitational wave detectors with the software <a href=\"http://www.gwoptics.org/finesse/\">Finesse</a>. For a comprehensive overview of interferometry see our review article: <a href=\"https://link.springer.com/article/10.1007/s41114-016-0002-8\">Interferometer Techniques for Gravitational-Wave Detection</a>. The schedule for today's session is as follows:\n",
    "  * 09:15 to 09:30 welcome\n",
    "  * 09:30 to 11:15 setup and simple examples\n",
    "  * 11:45 to 12:45 preparation for main task \n",
    "  * 14:00 to 16:00 work on the main task \n",
    "  * 16:30 to 17:30 presentation (by you) of results\n",
    "\n",
    "In this notebook we give a brief introduction to the software used today and construct first examples of interferometer models. All the material presented in the workshop are available at <a href=\"http://www.gwoptics.org/learn/schools/St_Andrews_2017/\">http://www.gwoptics.org/learn/schools/St_Andrews_2017/</a>."
   ]
  },
  {
   "cell_type": "markdown",
   "metadata": {},
   "source": [
    "# Software"
   ]
  },
  {
   "cell_type": "markdown",
   "metadata": {},
   "source": [
    "You should have received instructions on how to install Python, Pykat, Finesse and these notebook files already. If these did not install correctly we will find out today and can hopefully fix that.\n",
    "\n",
    "We are going to use the <a href=\"https://www.python.org/\">Python</a> programming language, executed in <a href=\"http://jupyter.org/\">Jupyter</a> notebooks. Python is a powerful programming language which is particularly useful for fast development and scripting. We will use only a very small subset of Python's functionality. In particular, we will do simple mathematical operations (using the package <a href=\"http://www.numpy.org/\">Numpy</a>), some simple string operations and we will plot output data.\n",
    "\n",
    "Of course you can **not** learn Python today. Instead we expect to to play around with the provided examples and also to search the web for code to copy and paste. \n",
    "\n",
    "We will run the interferometer modelling software <a href=\"http://www.gwoptics.org/finesse\">Finesse</a> which is developed for the design and commissioning of laser-interferometric gravitational wave detectors. It is optimised for modelling the main interferometers of LIGO, Virgo, GEO etc, but it is also a simple and versatile tool to learn basic laser optics. In addition we use <a href=\"http://www.gwoptics.org/pykat\">PyKat</a>, a Python wrapper to **run Finesse** from Jupyter notebooks. The main advantage of using Finesse in this way is that Python offers the ability to do post-processing of the Finesse output very easily in the notebook. \n",
    "\n",
    "See below, at the end of the notebook, for links to more information about Python, Jupyter, Finesse and Pykat.\n"
   ]
  },
  {
   "cell_type": "markdown",
   "metadata": {},
   "source": [
    "# Setting up a model and simulation\n",
    "## Model = a network of components\n",
    "\n",
    "In the most simple case we can think of the model as a set of ** optical components ** connected to each other via ** nodes **. The nodes are virtual connection points between the components, they have a unique name and store which components they are connected to. This allows to analyse the interferometer structure by traversing the list of existing nodes. Such a system is also called a ** nodal network **. For example, a system of two mirrors seperated by a distance would be modelled as three components and four nodes:\n",
    "\n",
    "<div style=\"background-color:white; padding: 1em; text-align:center\"><img src=\"nodal_network.svg\" width=90% /></div>\n",
    "\n",
    "The 'space' is also an optical component because the free propagation changes the phase of the light beam, and anything that changes a property of the light field is treated as a component by definition.\n",
    "\n",
    "## Simulation = making a plot\n",
    "\n",
    "Very many simulation tasks can be though of as making a plot: we look at an interferometer output signal when varying an interferometer parameter, such as, for example, a mirror position. An interferometer can have many output signals, most of which are the signals of photo detectors. Thus in Finesse a typical simulation task is defined by:\n",
    "  1. creating the optical model by specifying the components\n",
    "  2. adding the desired detectors to create output signals\n",
    "  3. varying a parameter (using the xaxis command, see below)"
   ]
  },
  {
   "cell_type": "markdown",
   "metadata": {},
   "source": [
    "# A First Model\n",
    "\n",
    "Let's construct a simple Finesse model of a laser beam shining on a beamsplitter. In this simulation we just vary the input laser power and see how much light is transmitted through the beamsplitter. To measure the laser power we connect a photodiode to the correct node at the beamsplitter.\n",
    "\n",
    "The sketch below shows the setup as a nodal network and also, for comparison, in a more common style.\n",
    "\n",
    "<div style=\"background-color:white; padding:1em; text-align:center;\">\n",
    "<img src=\"model_sketch.svg\" width=\"90%\" />\n",
    "</div>\n",
    "\n",
    "The Finesse and Pykat code for this setup looks as follows:"
   ]
  },
  {
   "cell_type": "code",
   "execution_count": 7,
   "metadata": {
    "collapsed": true
   },
   "outputs": [],
   "source": [
    "# create a Finesse model\n",
    "kat = finesse.Model()\n",
    "\n",
    "# the code describing the optical model and the basic task\n",
    "code = \"\"\"\n",
    "# setup of the interferometer, each line is one component\n",
    "l laser1                    # laser with P = 1W at the default frequency\n",
    "s s1 laser1.p1 bs1.p1 L=1   # 1m space connecting the laser to something\n",
    "bs bs1                      # 50:50 beam splitter\n",
    "pd pow_t bs1.p3.o           # photodiode detecting the transmitted light\n",
    "\n",
    "# setup of the simulation task, each line is one command\n",
    "# change the laser power from 0 to 1W in 10 steps\n",
    "xaxis(laser1.P, lin, 0, 1, 10)\n",
    "\"\"\"\n",
    "\n",
    "# parsing the code and creating the model\n",
    "kat.parse(code)\n",
    "\n",
    "# running the simulation\n",
    "out1 = kat.run()"
   ]
  },
  {
   "cell_type": "markdown",
   "metadata": {},
   "source": [
    "The output data can be plotted in multiple ways. If you want to see the results quickly we suggest using the built-in plotting command for the output:"
   ]
  },
  {
   "cell_type": "code",
   "execution_count": 8,
   "metadata": {},
   "outputs": [
    {
     "data": {
      "image/svg+xml": "<?xml version=\"1.0\" encoding=\"utf-8\" standalone=\"no\"?>\n<!DOCTYPE svg PUBLIC \"-//W3C//DTD SVG 1.1//EN\"\n  \"http://www.w3.org/Graphics/SVG/1.1/DTD/svg11.dtd\">\n<svg xmlns:xlink=\"http://www.w3.org/1999/xlink\" width=\"415.680156pt\" height=\"249.52225pt\" viewBox=\"0 0 415.680156 249.52225\" xmlns=\"http://www.w3.org/2000/svg\" version=\"1.1\">\n <metadata>\n  <rdf:RDF xmlns:dc=\"http://purl.org/dc/elements/1.1/\" xmlns:cc=\"http://creativecommons.org/ns#\" xmlns:rdf=\"http://www.w3.org/1999/02/22-rdf-syntax-ns#\">\n   <cc:Work>\n    <dc:type rdf:resource=\"http://purl.org/dc/dcmitype/StillImage\"/>\n    <dc:date>2022-04-12T11:32:35.561885</dc:date>\n    <dc:format>image/svg+xml</dc:format>\n    <dc:creator>\n     <cc:Agent>\n      <dc:title>Matplotlib v3.5.1, https://matplotlib.org/</dc:title>\n     </cc:Agent>\n    </dc:creator>\n   </cc:Work>\n  </rdf:RDF>\n </metadata>\n <defs>\n  <style type=\"text/css\">*{stroke-linejoin: round; stroke-linecap: butt}</style>\n </defs>\n <g id=\"figure_1\">\n  <g id=\"patch_1\">\n   <path d=\"M 0 249.52225 \nL 415.680156 249.52225 \nL 415.680156 0 \nL 0 0 \nz\n\" style=\"fill: #ffffff\"/>\n  </g>\n  <g id=\"axes_1\">\n   <g id=\"patch_2\">\n    <path d=\"M 39.55875 215.566 \nL 404.92375 215.566 \nL 404.92375 3.6 \nL 39.55875 3.6 \nz\n\" style=\"fill: #ffffff\"/>\n   </g>\n   <g id=\"matplotlib.axis_1\">\n    <g id=\"xtick_1\">\n     <g id=\"line2d_1\">\n      <path d=\"M 39.55875 215.566 \nL 39.55875 3.6 \n\" clip-path=\"url(#pb58867d894)\" style=\"fill: none; stroke: #000000; stroke-opacity: 0.3; stroke-width: 0.25; stroke-linecap: square\"/>\n     </g>\n     <g id=\"line2d_2\">\n      <defs>\n       <path id=\"m826d90f474\" d=\"M 0 0 \nL 0 3.5 \n\" style=\"stroke: #000000; stroke-width: 0.8\"/>\n      </defs>\n      <g>\n       <use xlink:href=\"#m826d90f474\" x=\"39.55875\" y=\"215.566\" style=\"stroke: #000000; stroke-width: 0.8\"/>\n      </g>\n     </g>\n     <g id=\"text_1\">\n      <!-- 0.0 -->\n      <g transform=\"translate(32.402344 229.404594)scale(0.09 -0.09)\">\n       <defs>\n        <path id=\"DejaVuSerif-30\" d=\"M 2034 219 \nQ 2513 219 2750 744 \nQ 2988 1269 2988 2328 \nQ 2988 3391 2750 3916 \nQ 2513 4441 2034 4441 \nQ 1556 4441 1318 3916 \nQ 1081 3391 1081 2328 \nQ 1081 1269 1318 744 \nQ 1556 219 2034 219 \nz\nM 2034 -91 \nQ 1275 -91 848 546 \nQ 422 1184 422 2328 \nQ 422 3475 848 4112 \nQ 1275 4750 2034 4750 \nQ 2797 4750 3222 4112 \nQ 3647 3475 3647 2328 \nQ 3647 1184 3222 546 \nQ 2797 -91 2034 -91 \nz\n\" transform=\"scale(0.015625)\"/>\n        <path id=\"DejaVuSerif-2e\" d=\"M 603 325 \nQ 603 500 722 622 \nQ 841 744 1019 744 \nQ 1191 744 1312 622 \nQ 1434 500 1434 325 \nQ 1434 153 1312 31 \nQ 1191 -91 1019 -91 \nQ 841 -91 722 29 \nQ 603 150 603 325 \nz\n\" transform=\"scale(0.015625)\"/>\n       </defs>\n       <use xlink:href=\"#DejaVuSerif-30\"/>\n       <use xlink:href=\"#DejaVuSerif-2e\" x=\"63.623047\"/>\n       <use xlink:href=\"#DejaVuSerif-30\" x=\"95.410156\"/>\n      </g>\n     </g>\n    </g>\n    <g id=\"xtick_2\">\n     <g id=\"line2d_3\">\n      <path d=\"M 112.63175 215.566 \nL 112.63175 3.6 \n\" clip-path=\"url(#pb58867d894)\" style=\"fill: none; stroke: #000000; stroke-opacity: 0.3; stroke-width: 0.25; stroke-linecap: square\"/>\n     </g>\n     <g id=\"line2d_4\">\n      <g>\n       <use xlink:href=\"#m826d90f474\" x=\"112.63175\" y=\"215.566\" style=\"stroke: #000000; stroke-width: 0.8\"/>\n      </g>\n     </g>\n     <g id=\"text_2\">\n      <!-- 0.2 -->\n      <g transform=\"translate(105.475344 229.404594)scale(0.09 -0.09)\">\n       <defs>\n        <path id=\"DejaVuSerif-32\" d=\"M 819 3553 \nL 469 3553 \nL 469 4384 \nQ 803 4563 1142 4656 \nQ 1481 4750 1806 4750 \nQ 2534 4750 2956 4397 \nQ 3378 4044 3378 3438 \nQ 3378 2753 2422 1800 \nQ 2347 1728 2309 1691 \nL 1131 513 \nL 3078 513 \nL 3078 1088 \nL 3444 1088 \nL 3444 0 \nL 434 0 \nL 434 341 \nL 1850 1753 \nQ 2319 2222 2519 2614 \nQ 2719 3006 2719 3438 \nQ 2719 3909 2473 4175 \nQ 2228 4441 1797 4441 \nQ 1350 4441 1106 4219 \nQ 863 3997 819 3553 \nz\n\" transform=\"scale(0.015625)\"/>\n       </defs>\n       <use xlink:href=\"#DejaVuSerif-30\"/>\n       <use xlink:href=\"#DejaVuSerif-2e\" x=\"63.623047\"/>\n       <use xlink:href=\"#DejaVuSerif-32\" x=\"95.410156\"/>\n      </g>\n     </g>\n    </g>\n    <g id=\"xtick_3\">\n     <g id=\"line2d_5\">\n      <path d=\"M 185.70475 215.566 \nL 185.70475 3.6 \n\" clip-path=\"url(#pb58867d894)\" style=\"fill: none; stroke: #000000; stroke-opacity: 0.3; stroke-width: 0.25; stroke-linecap: square\"/>\n     </g>\n     <g id=\"line2d_6\">\n      <g>\n       <use xlink:href=\"#m826d90f474\" x=\"185.70475\" y=\"215.566\" style=\"stroke: #000000; stroke-width: 0.8\"/>\n      </g>\n     </g>\n     <g id=\"text_3\">\n      <!-- 0.4 -->\n      <g transform=\"translate(178.548344 229.404594)scale(0.09 -0.09)\">\n       <defs>\n        <path id=\"DejaVuSerif-34\" d=\"M 2234 1581 \nL 2234 4063 \nL 641 1581 \nL 2234 1581 \nz\nM 3609 0 \nL 1484 0 \nL 1484 331 \nL 2234 331 \nL 2234 1247 \nL 197 1247 \nL 197 1588 \nL 2241 4750 \nL 2859 4750 \nL 2859 1581 \nL 3750 1581 \nL 3750 1247 \nL 2859 1247 \nL 2859 331 \nL 3609 331 \nL 3609 0 \nz\n\" transform=\"scale(0.015625)\"/>\n       </defs>\n       <use xlink:href=\"#DejaVuSerif-30\"/>\n       <use xlink:href=\"#DejaVuSerif-2e\" x=\"63.623047\"/>\n       <use xlink:href=\"#DejaVuSerif-34\" x=\"95.410156\"/>\n      </g>\n     </g>\n    </g>\n    <g id=\"xtick_4\">\n     <g id=\"line2d_7\">\n      <path d=\"M 258.77775 215.566 \nL 258.77775 3.6 \n\" clip-path=\"url(#pb58867d894)\" style=\"fill: none; stroke: #000000; stroke-opacity: 0.3; stroke-width: 0.25; stroke-linecap: square\"/>\n     </g>\n     <g id=\"line2d_8\">\n      <g>\n       <use xlink:href=\"#m826d90f474\" x=\"258.77775\" y=\"215.566\" style=\"stroke: #000000; stroke-width: 0.8\"/>\n      </g>\n     </g>\n     <g id=\"text_4\">\n      <!-- 0.6 -->\n      <g transform=\"translate(251.621344 229.404594)scale(0.09 -0.09)\">\n       <defs>\n        <path id=\"DejaVuSerif-36\" d=\"M 2094 219 \nQ 2534 219 2771 542 \nQ 3009 866 3009 1472 \nQ 3009 2078 2771 2401 \nQ 2534 2725 2094 2725 \nQ 1647 2725 1412 2412 \nQ 1178 2100 1178 1509 \nQ 1178 888 1415 553 \nQ 1653 219 2094 219 \nz\nM 1075 2569 \nQ 1288 2803 1556 2918 \nQ 1825 3034 2163 3034 \nQ 2859 3034 3264 2615 \nQ 3669 2197 3669 1472 \nQ 3669 763 3233 336 \nQ 2797 -91 2069 -91 \nQ 1278 -91 853 498 \nQ 428 1088 428 2181 \nQ 428 3406 931 4078 \nQ 1434 4750 2350 4750 \nQ 2597 4750 2869 4703 \nQ 3141 4656 3425 4563 \nL 3425 3794 \nL 3072 3794 \nQ 3034 4109 2831 4275 \nQ 2628 4441 2284 4441 \nQ 1678 4441 1381 3981 \nQ 1084 3522 1075 2569 \nz\n\" transform=\"scale(0.015625)\"/>\n       </defs>\n       <use xlink:href=\"#DejaVuSerif-30\"/>\n       <use xlink:href=\"#DejaVuSerif-2e\" x=\"63.623047\"/>\n       <use xlink:href=\"#DejaVuSerif-36\" x=\"95.410156\"/>\n      </g>\n     </g>\n    </g>\n    <g id=\"xtick_5\">\n     <g id=\"line2d_9\">\n      <path d=\"M 331.85075 215.566 \nL 331.85075 3.6 \n\" clip-path=\"url(#pb58867d894)\" style=\"fill: none; stroke: #000000; stroke-opacity: 0.3; stroke-width: 0.25; stroke-linecap: square\"/>\n     </g>\n     <g id=\"line2d_10\">\n      <g>\n       <use xlink:href=\"#m826d90f474\" x=\"331.85075\" y=\"215.566\" style=\"stroke: #000000; stroke-width: 0.8\"/>\n      </g>\n     </g>\n     <g id=\"text_5\">\n      <!-- 0.8 -->\n      <g transform=\"translate(324.694344 229.404594)scale(0.09 -0.09)\">\n       <defs>\n        <path id=\"DejaVuSerif-38\" d=\"M 2981 1275 \nQ 2981 1775 2732 2051 \nQ 2484 2328 2034 2328 \nQ 1584 2328 1336 2051 \nQ 1088 1775 1088 1275 \nQ 1088 772 1336 495 \nQ 1584 219 2034 219 \nQ 2484 219 2732 495 \nQ 2981 772 2981 1275 \nz\nM 2853 3541 \nQ 2853 3966 2637 4203 \nQ 2422 4441 2034 4441 \nQ 1650 4441 1433 4203 \nQ 1216 3966 1216 3541 \nQ 1216 3113 1433 2875 \nQ 1650 2638 2034 2638 \nQ 2422 2638 2637 2875 \nQ 2853 3113 2853 3541 \nz\nM 2516 2484 \nQ 3047 2413 3344 2092 \nQ 3641 1772 3641 1275 \nQ 3641 619 3225 264 \nQ 2809 -91 2034 -91 \nQ 1263 -91 845 264 \nQ 428 619 428 1275 \nQ 428 1772 725 2092 \nQ 1022 2413 1556 2484 \nQ 1084 2569 832 2842 \nQ 581 3116 581 3541 \nQ 581 4103 968 4426 \nQ 1356 4750 2034 4750 \nQ 2713 4750 3100 4426 \nQ 3488 4103 3488 3541 \nQ 3488 3116 3236 2842 \nQ 2984 2569 2516 2484 \nz\n\" transform=\"scale(0.015625)\"/>\n       </defs>\n       <use xlink:href=\"#DejaVuSerif-30\"/>\n       <use xlink:href=\"#DejaVuSerif-2e\" x=\"63.623047\"/>\n       <use xlink:href=\"#DejaVuSerif-38\" x=\"95.410156\"/>\n      </g>\n     </g>\n    </g>\n    <g id=\"xtick_6\">\n     <g id=\"line2d_11\">\n      <path d=\"M 404.92375 215.566 \nL 404.92375 3.6 \n\" clip-path=\"url(#pb58867d894)\" style=\"fill: none; stroke: #000000; stroke-opacity: 0.3; stroke-width: 0.25; stroke-linecap: square\"/>\n     </g>\n     <g id=\"line2d_12\">\n      <g>\n       <use xlink:href=\"#m826d90f474\" x=\"404.92375\" y=\"215.566\" style=\"stroke: #000000; stroke-width: 0.8\"/>\n      </g>\n     </g>\n     <g id=\"text_6\">\n      <!-- 1.0 -->\n      <g transform=\"translate(397.767344 229.404594)scale(0.09 -0.09)\">\n       <defs>\n        <path id=\"DejaVuSerif-31\" d=\"M 909 0 \nL 909 331 \nL 1722 331 \nL 1722 4213 \nL 781 3603 \nL 781 4013 \nL 1919 4750 \nL 2350 4750 \nL 2350 331 \nL 3163 331 \nL 3163 0 \nL 909 0 \nz\n\" transform=\"scale(0.015625)\"/>\n       </defs>\n       <use xlink:href=\"#DejaVuSerif-31\"/>\n       <use xlink:href=\"#DejaVuSerif-2e\" x=\"63.623047\"/>\n       <use xlink:href=\"#DejaVuSerif-30\" x=\"95.410156\"/>\n      </g>\n     </g>\n    </g>\n    <g id=\"text_7\">\n     <!-- laser1.P [W] -->\n     <g transform=\"translate(187.855938 243.634594)scale(0.11 -0.11)\">\n      <defs>\n       <path id=\"DejaVuSerif-6c\" d=\"M 1313 331 \nL 1856 331 \nL 1856 0 \nL 184 0 \nL 184 331 \nL 738 331 \nL 738 4531 \nL 184 4531 \nL 184 4863 \nL 1313 4863 \nL 1313 331 \nz\n\" transform=\"scale(0.015625)\"/>\n       <path id=\"DejaVuSerif-61\" d=\"M 2547 1044 \nL 2547 1747 \nL 1806 1747 \nQ 1378 1747 1168 1562 \nQ 959 1378 959 997 \nQ 959 650 1171 447 \nQ 1384 244 1747 244 \nQ 2106 244 2326 466 \nQ 2547 688 2547 1044 \nz\nM 3122 2075 \nL 3122 331 \nL 3634 331 \nL 3634 0 \nL 2547 0 \nL 2547 359 \nQ 2356 128 2106 18 \nQ 1856 -91 1522 -91 \nQ 969 -91 644 203 \nQ 319 497 319 997 \nQ 319 1513 691 1797 \nQ 1063 2081 1741 2081 \nL 2547 2081 \nL 2547 2309 \nQ 2547 2688 2317 2895 \nQ 2088 3103 1672 3103 \nQ 1328 3103 1125 2947 \nQ 922 2791 872 2484 \nL 575 2484 \nL 575 3156 \nQ 875 3284 1158 3348 \nQ 1441 3413 1709 3413 \nQ 2400 3413 2761 3070 \nQ 3122 2728 3122 2075 \nz\n\" transform=\"scale(0.015625)\"/>\n       <path id=\"DejaVuSerif-73\" d=\"M 359 184 \nL 359 959 \nL 691 959 \nQ 703 588 923 403 \nQ 1144 219 1575 219 \nQ 1963 219 2166 364 \nQ 2369 509 2369 788 \nQ 2369 1006 2220 1140 \nQ 2072 1275 1594 1428 \nL 1178 1569 \nQ 750 1706 558 1912 \nQ 366 2119 366 2438 \nQ 366 2894 700 3153 \nQ 1034 3413 1625 3413 \nQ 1888 3413 2178 3344 \nQ 2469 3275 2778 3144 \nL 2778 2419 \nL 2447 2419 \nQ 2434 2741 2221 2922 \nQ 2009 3103 1644 3103 \nQ 1281 3103 1095 2975 \nQ 909 2847 909 2591 \nQ 909 2381 1050 2254 \nQ 1191 2128 1613 1997 \nL 2069 1856 \nQ 2541 1709 2748 1489 \nQ 2956 1269 2956 922 \nQ 2956 450 2595 179 \nQ 2234 -91 1600 -91 \nQ 1278 -91 972 -22 \nQ 666 47 359 184 \nz\n\" transform=\"scale(0.015625)\"/>\n       <path id=\"DejaVuSerif-65\" d=\"M 3469 1600 \nL 991 1600 \nL 991 1575 \nQ 991 903 1244 561 \nQ 1497 219 1991 219 \nQ 2369 219 2611 417 \nQ 2853 616 2950 1006 \nL 3413 1006 \nQ 3275 459 2904 184 \nQ 2534 -91 1931 -91 \nQ 1203 -91 761 389 \nQ 319 869 319 1663 \nQ 319 2450 753 2931 \nQ 1188 3413 1894 3413 \nQ 2647 3413 3050 2948 \nQ 3453 2484 3469 1600 \nz\nM 2791 1931 \nQ 2772 2513 2545 2808 \nQ 2319 3103 1894 3103 \nQ 1497 3103 1269 2806 \nQ 1041 2509 991 1931 \nL 2791 1931 \nz\n\" transform=\"scale(0.015625)\"/>\n       <path id=\"DejaVuSerif-72\" d=\"M 3059 3328 \nL 3059 2497 \nL 2728 2497 \nQ 2713 2744 2591 2866 \nQ 2469 2988 2234 2988 \nQ 1809 2988 1582 2694 \nQ 1356 2400 1356 1850 \nL 1356 331 \nL 2022 331 \nL 2022 0 \nL 263 0 \nL 263 331 \nL 781 331 \nL 781 2994 \nL 231 2994 \nL 231 3322 \nL 1356 3322 \nL 1356 2731 \nQ 1525 3078 1790 3245 \nQ 2056 3413 2438 3413 \nQ 2578 3413 2733 3391 \nQ 2888 3369 3059 3328 \nz\n\" transform=\"scale(0.015625)\"/>\n       <path id=\"DejaVuSerif-50\" d=\"M 1581 2375 \nL 2406 2375 \nQ 2872 2375 3115 2626 \nQ 3359 2878 3359 3353 \nQ 3359 3831 3115 4081 \nQ 2872 4331 2406 4331 \nL 1581 4331 \nL 1581 2375 \nz\nM 353 0 \nL 353 331 \nL 947 331 \nL 947 4331 \nL 353 4331 \nL 353 4666 \nL 2559 4666 \nQ 3259 4666 3668 4311 \nQ 4078 3956 4078 3353 \nQ 4078 2753 3668 2397 \nQ 3259 2041 2559 2041 \nL 1581 2041 \nL 1581 331 \nL 2303 331 \nL 2303 0 \nL 353 0 \nz\n\" transform=\"scale(0.015625)\"/>\n       <path id=\"DejaVuSerif-20\" transform=\"scale(0.015625)\"/>\n       <path id=\"DejaVuSerif-5b\" d=\"M 550 4863 \nL 2003 4863 \nL 2003 4531 \nL 1147 4531 \nL 1147 -513 \nL 2003 -513 \nL 2003 -844 \nL 550 -844 \nL 550 4863 \nz\n\" transform=\"scale(0.015625)\"/>\n       <path id=\"DejaVuSerif-57\" d=\"M 4878 0 \nL 4366 0 \nL 3297 3794 \nL 2228 0 \nL 1716 0 \nL 494 4331 \nL 31 4331 \nL 31 4666 \nL 1734 4666 \nL 1734 4331 \nL 1153 4331 \nL 2125 884 \nL 3188 4666 \nL 3694 4666 \nL 4775 844 \nL 5753 4331 \nL 5216 4331 \nL 5216 4666 \nL 6559 4666 \nL 6559 4331 \nL 6100 4331 \nL 4878 0 \nz\n\" transform=\"scale(0.015625)\"/>\n       <path id=\"DejaVuSerif-5d\" d=\"M 1947 4863 \nL 1947 -844 \nL 494 -844 \nL 494 -513 \nL 1350 -513 \nL 1350 4531 \nL 494 4531 \nL 494 4863 \nL 1947 4863 \nz\n\" transform=\"scale(0.015625)\"/>\n      </defs>\n      <use xlink:href=\"#DejaVuSerif-6c\"/>\n      <use xlink:href=\"#DejaVuSerif-61\" x=\"31.982422\"/>\n      <use xlink:href=\"#DejaVuSerif-73\" x=\"91.601562\"/>\n      <use xlink:href=\"#DejaVuSerif-65\" x=\"142.919922\"/>\n      <use xlink:href=\"#DejaVuSerif-72\" x=\"202.099609\"/>\n      <use xlink:href=\"#DejaVuSerif-31\" x=\"249.902344\"/>\n      <use xlink:href=\"#DejaVuSerif-2e\" x=\"313.525391\"/>\n      <use xlink:href=\"#DejaVuSerif-50\" x=\"345.3125\"/>\n      <use xlink:href=\"#DejaVuSerif-20\" x=\"412.597656\"/>\n      <use xlink:href=\"#DejaVuSerif-5b\" x=\"444.384766\"/>\n      <use xlink:href=\"#DejaVuSerif-57\" x=\"483.398438\"/>\n      <use xlink:href=\"#DejaVuSerif-5d\" x=\"586.181641\"/>\n     </g>\n    </g>\n   </g>\n   <g id=\"matplotlib.axis_2\">\n    <g id=\"ytick_1\">\n     <g id=\"line2d_13\">\n      <path d=\"M 39.55875 205.931182 \nL 404.92375 205.931182 \n\" clip-path=\"url(#pb58867d894)\" style=\"fill: none; stroke: #000000; stroke-opacity: 0.3; stroke-width: 0.25; stroke-linecap: square\"/>\n     </g>\n     <g id=\"line2d_14\">\n      <defs>\n       <path id=\"m12170d0cae\" d=\"M 0 0 \nL -3.5 0 \n\" style=\"stroke: #000000; stroke-width: 0.8\"/>\n      </defs>\n      <g>\n       <use xlink:href=\"#m12170d0cae\" x=\"39.55875\" y=\"205.931182\" style=\"stroke: #000000; stroke-width: 0.8\"/>\n      </g>\n     </g>\n     <g id=\"text_8\">\n      <!-- 0.0 -->\n      <g transform=\"translate(18.245938 209.350479)scale(0.09 -0.09)\">\n       <use xlink:href=\"#DejaVuSerif-30\"/>\n       <use xlink:href=\"#DejaVuSerif-2e\" x=\"63.623047\"/>\n       <use xlink:href=\"#DejaVuSerif-30\" x=\"95.410156\"/>\n      </g>\n     </g>\n    </g>\n    <g id=\"ytick_2\">\n     <g id=\"line2d_15\">\n      <path d=\"M 39.55875 167.391909 \nL 404.92375 167.391909 \n\" clip-path=\"url(#pb58867d894)\" style=\"fill: none; stroke: #000000; stroke-opacity: 0.3; stroke-width: 0.25; stroke-linecap: square\"/>\n     </g>\n     <g id=\"line2d_16\">\n      <g>\n       <use xlink:href=\"#m12170d0cae\" x=\"39.55875\" y=\"167.391909\" style=\"stroke: #000000; stroke-width: 0.8\"/>\n      </g>\n     </g>\n     <g id=\"text_9\">\n      <!-- 0.1 -->\n      <g transform=\"translate(18.245938 170.811206)scale(0.09 -0.09)\">\n       <use xlink:href=\"#DejaVuSerif-30\"/>\n       <use xlink:href=\"#DejaVuSerif-2e\" x=\"63.623047\"/>\n       <use xlink:href=\"#DejaVuSerif-31\" x=\"95.410156\"/>\n      </g>\n     </g>\n    </g>\n    <g id=\"ytick_3\">\n     <g id=\"line2d_17\">\n      <path d=\"M 39.55875 128.852636 \nL 404.92375 128.852636 \n\" clip-path=\"url(#pb58867d894)\" style=\"fill: none; stroke: #000000; stroke-opacity: 0.3; stroke-width: 0.25; stroke-linecap: square\"/>\n     </g>\n     <g id=\"line2d_18\">\n      <g>\n       <use xlink:href=\"#m12170d0cae\" x=\"39.55875\" y=\"128.852636\" style=\"stroke: #000000; stroke-width: 0.8\"/>\n      </g>\n     </g>\n     <g id=\"text_10\">\n      <!-- 0.2 -->\n      <g transform=\"translate(18.245938 132.271933)scale(0.09 -0.09)\">\n       <use xlink:href=\"#DejaVuSerif-30\"/>\n       <use xlink:href=\"#DejaVuSerif-2e\" x=\"63.623047\"/>\n       <use xlink:href=\"#DejaVuSerif-32\" x=\"95.410156\"/>\n      </g>\n     </g>\n    </g>\n    <g id=\"ytick_4\">\n     <g id=\"line2d_19\">\n      <path d=\"M 39.55875 90.313364 \nL 404.92375 90.313364 \n\" clip-path=\"url(#pb58867d894)\" style=\"fill: none; stroke: #000000; stroke-opacity: 0.3; stroke-width: 0.25; stroke-linecap: square\"/>\n     </g>\n     <g id=\"line2d_20\">\n      <g>\n       <use xlink:href=\"#m12170d0cae\" x=\"39.55875\" y=\"90.313364\" style=\"stroke: #000000; stroke-width: 0.8\"/>\n      </g>\n     </g>\n     <g id=\"text_11\">\n      <!-- 0.3 -->\n      <g transform=\"translate(18.245938 93.732661)scale(0.09 -0.09)\">\n       <defs>\n        <path id=\"DejaVuSerif-33\" d=\"M 622 4469 \nQ 988 4606 1323 4678 \nQ 1659 4750 1953 4750 \nQ 2638 4750 3022 4454 \nQ 3406 4159 3406 3634 \nQ 3406 3213 3140 2930 \nQ 2875 2647 2388 2547 \nQ 2963 2466 3280 2130 \nQ 3597 1794 3597 1259 \nQ 3597 606 3158 257 \nQ 2719 -91 1894 -91 \nQ 1528 -91 1179 -12 \nQ 831 66 488 225 \nL 488 1131 \nL 838 1131 \nQ 869 681 1141 450 \nQ 1413 219 1906 219 \nQ 2384 219 2661 495 \nQ 2938 772 2938 1253 \nQ 2938 1803 2653 2086 \nQ 2369 2369 1819 2369 \nL 1522 2369 \nL 1522 2688 \nL 1678 2688 \nQ 2225 2688 2498 2914 \nQ 2772 3141 2772 3597 \nQ 2772 4006 2547 4223 \nQ 2322 4441 1900 4441 \nQ 1478 4441 1245 4241 \nQ 1013 4041 972 3647 \nL 622 3647 \nL 622 4469 \nz\n\" transform=\"scale(0.015625)\"/>\n       </defs>\n       <use xlink:href=\"#DejaVuSerif-30\"/>\n       <use xlink:href=\"#DejaVuSerif-2e\" x=\"63.623047\"/>\n       <use xlink:href=\"#DejaVuSerif-33\" x=\"95.410156\"/>\n      </g>\n     </g>\n    </g>\n    <g id=\"ytick_5\">\n     <g id=\"line2d_21\">\n      <path d=\"M 39.55875 51.774091 \nL 404.92375 51.774091 \n\" clip-path=\"url(#pb58867d894)\" style=\"fill: none; stroke: #000000; stroke-opacity: 0.3; stroke-width: 0.25; stroke-linecap: square\"/>\n     </g>\n     <g id=\"line2d_22\">\n      <g>\n       <use xlink:href=\"#m12170d0cae\" x=\"39.55875\" y=\"51.774091\" style=\"stroke: #000000; stroke-width: 0.8\"/>\n      </g>\n     </g>\n     <g id=\"text_12\">\n      <!-- 0.4 -->\n      <g transform=\"translate(18.245938 55.193388)scale(0.09 -0.09)\">\n       <use xlink:href=\"#DejaVuSerif-30\"/>\n       <use xlink:href=\"#DejaVuSerif-2e\" x=\"63.623047\"/>\n       <use xlink:href=\"#DejaVuSerif-34\" x=\"95.410156\"/>\n      </g>\n     </g>\n    </g>\n    <g id=\"ytick_6\">\n     <g id=\"line2d_23\">\n      <path d=\"M 39.55875 13.234818 \nL 404.92375 13.234818 \n\" clip-path=\"url(#pb58867d894)\" style=\"fill: none; stroke: #000000; stroke-opacity: 0.3; stroke-width: 0.25; stroke-linecap: square\"/>\n     </g>\n     <g id=\"line2d_24\">\n      <g>\n       <use xlink:href=\"#m12170d0cae\" x=\"39.55875\" y=\"13.234818\" style=\"stroke: #000000; stroke-width: 0.8\"/>\n      </g>\n     </g>\n     <g id=\"text_13\">\n      <!-- 0.5 -->\n      <g transform=\"translate(18.245938 16.654115)scale(0.09 -0.09)\">\n       <defs>\n        <path id=\"DejaVuSerif-35\" d=\"M 3219 4666 \nL 3219 4153 \nL 1081 4153 \nL 1081 2816 \nQ 1244 2928 1461 2984 \nQ 1678 3041 1947 3041 \nQ 2703 3041 3140 2622 \nQ 3578 2203 3578 1478 \nQ 3578 738 3136 323 \nQ 2694 -91 1894 -91 \nQ 1572 -91 1234 -12 \nQ 897 66 544 225 \nL 544 1131 \nL 897 1131 \nQ 925 688 1179 453 \nQ 1434 219 1894 219 \nQ 2388 219 2653 544 \nQ 2919 869 2919 1478 \nQ 2919 2084 2655 2407 \nQ 2391 2731 1894 2731 \nQ 1613 2731 1398 2631 \nQ 1184 2531 1019 2322 \nL 750 2322 \nL 750 4666 \nL 3219 4666 \nz\n\" transform=\"scale(0.015625)\"/>\n       </defs>\n       <use xlink:href=\"#DejaVuSerif-30\"/>\n       <use xlink:href=\"#DejaVuSerif-2e\" x=\"63.623047\"/>\n       <use xlink:href=\"#DejaVuSerif-35\" x=\"95.410156\"/>\n      </g>\n     </g>\n    </g>\n    <g id=\"text_14\">\n     <!-- Power [W] -->\n     <g transform=\"translate(11.958281 138.659094)rotate(-90)scale(0.11 -0.11)\">\n      <defs>\n       <path id=\"DejaVuSerif-6f\" d=\"M 1925 219 \nQ 2388 219 2623 584 \nQ 2859 950 2859 1663 \nQ 2859 2375 2623 2739 \nQ 2388 3103 1925 3103 \nQ 1463 3103 1227 2739 \nQ 991 2375 991 1663 \nQ 991 950 1228 584 \nQ 1466 219 1925 219 \nz\nM 1925 -91 \nQ 1200 -91 759 389 \nQ 319 869 319 1663 \nQ 319 2456 758 2934 \nQ 1197 3413 1925 3413 \nQ 2653 3413 3092 2934 \nQ 3531 2456 3531 1663 \nQ 3531 869 3092 389 \nQ 2653 -91 1925 -91 \nz\n\" transform=\"scale(0.015625)\"/>\n       <path id=\"DejaVuSerif-77\" d=\"M 3072 3322 \nL 3922 728 \nL 4672 2988 \nL 4191 2988 \nL 4191 3322 \nL 5394 3322 \nL 5394 2988 \nL 5025 2988 \nL 4038 0 \nL 3559 0 \nL 2741 2484 \nL 1919 0 \nL 1459 0 \nL 475 2988 \nL 103 2988 \nL 103 3322 \nL 1606 3322 \nL 1606 2988 \nL 1069 2988 \nL 1813 728 \nL 2669 3322 \nL 3072 3322 \nz\n\" transform=\"scale(0.015625)\"/>\n      </defs>\n      <use xlink:href=\"#DejaVuSerif-50\"/>\n      <use xlink:href=\"#DejaVuSerif-6f\" x=\"63.285156\"/>\n      <use xlink:href=\"#DejaVuSerif-77\" x=\"123.490234\"/>\n      <use xlink:href=\"#DejaVuSerif-65\" x=\"209.085938\"/>\n      <use xlink:href=\"#DejaVuSerif-72\" x=\"268.265625\"/>\n      <use xlink:href=\"#DejaVuSerif-20\" x=\"316.068359\"/>\n      <use xlink:href=\"#DejaVuSerif-5b\" x=\"347.855469\"/>\n      <use xlink:href=\"#DejaVuSerif-57\" x=\"386.869141\"/>\n      <use xlink:href=\"#DejaVuSerif-5d\" x=\"489.652344\"/>\n     </g>\n    </g>\n   </g>\n   <g id=\"line2d_25\">\n    <path d=\"M 39.55875 205.931182 \nL 76.09525 186.661545 \nL 112.63175 167.391909 \nL 149.16825 148.122273 \nL 185.70475 128.852636 \nL 222.24125 109.583 \nL 258.77775 90.313364 \nL 295.31425 71.043727 \nL 331.85075 51.774091 \nL 368.38725 32.504455 \nL 404.92375 13.234818 \n\" clip-path=\"url(#pb58867d894)\" style=\"fill: none; stroke: #0000ff; stroke-width: 1.5; stroke-linecap: square\"/>\n   </g>\n   <g id=\"patch_3\">\n    <path d=\"M 39.55875 215.566 \nL 39.55875 3.6 \n\" style=\"fill: none; stroke: #000000; stroke-width: 0.8; stroke-linejoin: miter; stroke-linecap: square\"/>\n   </g>\n   <g id=\"patch_4\">\n    <path d=\"M 404.92375 215.566 \nL 404.92375 3.6 \n\" style=\"fill: none; stroke: #000000; stroke-width: 0.8; stroke-linejoin: miter; stroke-linecap: square\"/>\n   </g>\n   <g id=\"patch_5\">\n    <path d=\"M 39.55875 215.566 \nL 404.92375 215.566 \n\" style=\"fill: none; stroke: #000000; stroke-width: 0.8; stroke-linejoin: miter; stroke-linecap: square\"/>\n   </g>\n   <g id=\"patch_6\">\n    <path d=\"M 39.55875 3.6 \nL 404.92375 3.6 \n\" style=\"fill: none; stroke: #000000; stroke-width: 0.8; stroke-linejoin: miter; stroke-linecap: square\"/>\n   </g>\n   <g id=\"legend_1\">\n    <g id=\"patch_7\">\n     <path d=\"M 45.85875 24.260625 \nL 101.65875 24.260625 \nQ 103.45875 24.260625 103.45875 22.460625 \nL 103.45875 9.9 \nQ 103.45875 8.1 101.65875 8.1 \nL 45.85875 8.1 \nQ 44.05875 8.1 44.05875 9.9 \nL 44.05875 22.460625 \nQ 44.05875 24.260625 45.85875 24.260625 \nz\n\" style=\"fill: #ffffff; opacity: 0.8; stroke: #cccccc; stroke-linejoin: miter\"/>\n    </g>\n    <g id=\"line2d_26\">\n     <path d=\"M 47.65875 15.388594 \nL 56.65875 15.388594 \nL 65.65875 15.388594 \n\" style=\"fill: none; stroke: #0000ff; stroke-width: 1.5; stroke-linecap: square\"/>\n    </g>\n    <g id=\"text_15\">\n     <!-- pow_t -->\n     <g transform=\"translate(72.85875 18.538594)scale(0.09 -0.09)\">\n      <defs>\n       <path id=\"DejaVuSerif-70\" d=\"M 1313 1825 \nL 1313 1497 \nQ 1313 897 1542 583 \nQ 1772 269 2209 269 \nQ 2650 269 2876 622 \nQ 3103 975 3103 1663 \nQ 3103 2353 2876 2703 \nQ 2650 3053 2209 3053 \nQ 1772 3053 1542 2737 \nQ 1313 2422 1313 1825 \nz\nM 738 2988 \nL 184 2988 \nL 184 3322 \nL 1313 3322 \nL 1313 2803 \nQ 1481 3116 1742 3264 \nQ 2003 3413 2388 3413 \nQ 3000 3413 3387 2928 \nQ 3775 2444 3775 1663 \nQ 3775 881 3387 395 \nQ 3000 -91 2388 -91 \nQ 2003 -91 1742 57 \nQ 1481 206 1313 519 \nL 1313 -997 \nL 1856 -997 \nL 1856 -1331 \nL 184 -1331 \nL 184 -997 \nL 738 -997 \nL 738 2988 \nz\n\" transform=\"scale(0.015625)\"/>\n       <path id=\"DejaVuSerif-5f\" d=\"M 3200 -1259 \nL 3200 -1509 \nL 0 -1509 \nL 0 -1259 \nL 3200 -1259 \nz\n\" transform=\"scale(0.015625)\"/>\n       <path id=\"DejaVuSerif-74\" d=\"M 691 2988 \nL 184 2988 \nL 184 3322 \nL 691 3322 \nL 691 4353 \nL 1269 4353 \nL 1269 3322 \nL 2350 3322 \nL 2350 2988 \nL 1269 2988 \nL 1269 878 \nQ 1269 456 1350 337 \nQ 1431 219 1650 219 \nQ 1875 219 1978 351 \nQ 2081 484 2088 781 \nL 2522 781 \nQ 2497 328 2275 118 \nQ 2053 -91 1600 -91 \nQ 1103 -91 897 129 \nQ 691 350 691 878 \nL 691 2988 \nz\n\" transform=\"scale(0.015625)\"/>\n      </defs>\n      <use xlink:href=\"#DejaVuSerif-70\"/>\n      <use xlink:href=\"#DejaVuSerif-6f\" x=\"64.013672\"/>\n      <use xlink:href=\"#DejaVuSerif-77\" x=\"124.21875\"/>\n      <use xlink:href=\"#DejaVuSerif-5f\" x=\"209.814453\"/>\n      <use xlink:href=\"#DejaVuSerif-74\" x=\"259.814453\"/>\n     </g>\n    </g>\n   </g>\n  </g>\n </g>\n <defs>\n  <clipPath id=\"pb58867d894\">\n   <rect x=\"39.55875\" y=\"3.6\" width=\"365.365\" height=\"211.966\"/>\n  </clipPath>\n </defs>\n</svg>\n",
      "text/plain": [
       "<Figure size 576x355.968 with 1 Axes>"
      ]
     },
     "metadata": {},
     "output_type": "display_data"
    }
   ],
   "source": [
    "# plotting the results of an output can be done using the built-in command\n",
    "fig = out1.plot()"
   ]
  },
  {
   "cell_type": "markdown",
   "metadata": {},
   "source": [
    "This will produce a plot using all the detectors enabled in the model. It should be noted that the yaxis units are arbitrary [au] because multiple quantities can be shown at the same time. For example, a beam's power in Watts can be plotted along with the size of a beam in meters. Thus to infer the units of a trace you must check what type of detector has been used.\n",
    "\n",
    "The built-in plotting function has many options that can be set to customise the plot. For more examples on using this, please see the dedicated notebook on <a href=\"http://www.gwoptics.org/learn/05_Tips_and_Examples/01_Plotting/01_Plotting_examples.html\" target=\"_blank\">plotting</a>.\n",
    "\n",
    "However, if you would rather make a plot yourself you can always just use matplotlib commands as per usual:"
   ]
  },
  {
   "cell_type": "code",
   "execution_count": 11,
   "metadata": {},
   "outputs": [
    {
     "data": {
      "image/svg+xml": "<?xml version=\"1.0\" encoding=\"utf-8\" standalone=\"no\"?>\n<!DOCTYPE svg PUBLIC \"-//W3C//DTD SVG 1.1//EN\"\n  \"http://www.w3.org/Graphics/SVG/1.1/DTD/svg11.dtd\">\n<svg xmlns:xlink=\"http://www.w3.org/1999/xlink\" width=\"385.115156pt\" height=\"239.12313pt\" viewBox=\"0 0 385.115156 239.12313\" xmlns=\"http://www.w3.org/2000/svg\" version=\"1.1\">\n <metadata>\n  <rdf:RDF xmlns:dc=\"http://purl.org/dc/elements/1.1/\" xmlns:cc=\"http://creativecommons.org/ns#\" xmlns:rdf=\"http://www.w3.org/1999/02/22-rdf-syntax-ns#\">\n   <cc:Work>\n    <dc:type rdf:resource=\"http://purl.org/dc/dcmitype/StillImage\"/>\n    <dc:date>2022-04-12T11:34:52.641876</dc:date>\n    <dc:format>image/svg+xml</dc:format>\n    <dc:creator>\n     <cc:Agent>\n      <dc:title>Matplotlib v3.5.1, https://matplotlib.org/</dc:title>\n     </cc:Agent>\n    </dc:creator>\n   </cc:Work>\n  </rdf:RDF>\n </metadata>\n <defs>\n  <style type=\"text/css\">*{stroke-linejoin: round; stroke-linecap: butt}</style>\n </defs>\n <g id=\"figure_1\">\n  <g id=\"patch_1\">\n   <path d=\"M 0 239.12313 \nL 385.115156 239.12313 \nL 385.115156 0 \nL 0 0 \nz\n\" style=\"fill: #ffffff\"/>\n  </g>\n  <g id=\"axes_1\">\n   <g id=\"patch_2\">\n    <path d=\"M 39.55875 205.16688 \nL 374.35875 205.16688 \nL 374.35875 3.6 \nL 39.55875 3.6 \nz\n\" style=\"fill: #ffffff\"/>\n   </g>\n   <g id=\"matplotlib.axis_1\">\n    <g id=\"xtick_1\">\n     <g id=\"line2d_1\">\n      <path d=\"M 39.55875 205.16688 \nL 39.55875 3.6 \n\" clip-path=\"url(#pfc0995add5)\" style=\"fill: none; stroke: #000000; stroke-opacity: 0.3; stroke-width: 0.25; stroke-linecap: square\"/>\n     </g>\n     <g id=\"line2d_2\">\n      <defs>\n       <path id=\"m99245255de\" d=\"M 0 0 \nL 0 3.5 \n\" style=\"stroke: #000000; stroke-width: 0.8\"/>\n      </defs>\n      <g>\n       <use xlink:href=\"#m99245255de\" x=\"39.55875\" y=\"205.16688\" style=\"stroke: #000000; stroke-width: 0.8\"/>\n      </g>\n     </g>\n     <g id=\"text_1\">\n      <!-- 0.0 -->\n      <g transform=\"translate(32.402344 219.005474)scale(0.09 -0.09)\">\n       <defs>\n        <path id=\"DejaVuSerif-30\" d=\"M 2034 219 \nQ 2513 219 2750 744 \nQ 2988 1269 2988 2328 \nQ 2988 3391 2750 3916 \nQ 2513 4441 2034 4441 \nQ 1556 4441 1318 3916 \nQ 1081 3391 1081 2328 \nQ 1081 1269 1318 744 \nQ 1556 219 2034 219 \nz\nM 2034 -91 \nQ 1275 -91 848 546 \nQ 422 1184 422 2328 \nQ 422 3475 848 4112 \nQ 1275 4750 2034 4750 \nQ 2797 4750 3222 4112 \nQ 3647 3475 3647 2328 \nQ 3647 1184 3222 546 \nQ 2797 -91 2034 -91 \nz\n\" transform=\"scale(0.015625)\"/>\n        <path id=\"DejaVuSerif-2e\" d=\"M 603 325 \nQ 603 500 722 622 \nQ 841 744 1019 744 \nQ 1191 744 1312 622 \nQ 1434 500 1434 325 \nQ 1434 153 1312 31 \nQ 1191 -91 1019 -91 \nQ 841 -91 722 29 \nQ 603 150 603 325 \nz\n\" transform=\"scale(0.015625)\"/>\n       </defs>\n       <use xlink:href=\"#DejaVuSerif-30\"/>\n       <use xlink:href=\"#DejaVuSerif-2e\" x=\"63.623047\"/>\n       <use xlink:href=\"#DejaVuSerif-30\" x=\"95.410156\"/>\n      </g>\n     </g>\n    </g>\n    <g id=\"xtick_2\">\n     <g id=\"line2d_3\">\n      <path d=\"M 106.51875 205.16688 \nL 106.51875 3.6 \n\" clip-path=\"url(#pfc0995add5)\" style=\"fill: none; stroke: #000000; stroke-opacity: 0.3; stroke-width: 0.25; stroke-linecap: square\"/>\n     </g>\n     <g id=\"line2d_4\">\n      <g>\n       <use xlink:href=\"#m99245255de\" x=\"106.51875\" y=\"205.16688\" style=\"stroke: #000000; stroke-width: 0.8\"/>\n      </g>\n     </g>\n     <g id=\"text_2\">\n      <!-- 0.2 -->\n      <g transform=\"translate(99.362344 219.005474)scale(0.09 -0.09)\">\n       <defs>\n        <path id=\"DejaVuSerif-32\" d=\"M 819 3553 \nL 469 3553 \nL 469 4384 \nQ 803 4563 1142 4656 \nQ 1481 4750 1806 4750 \nQ 2534 4750 2956 4397 \nQ 3378 4044 3378 3438 \nQ 3378 2753 2422 1800 \nQ 2347 1728 2309 1691 \nL 1131 513 \nL 3078 513 \nL 3078 1088 \nL 3444 1088 \nL 3444 0 \nL 434 0 \nL 434 341 \nL 1850 1753 \nQ 2319 2222 2519 2614 \nQ 2719 3006 2719 3438 \nQ 2719 3909 2473 4175 \nQ 2228 4441 1797 4441 \nQ 1350 4441 1106 4219 \nQ 863 3997 819 3553 \nz\n\" transform=\"scale(0.015625)\"/>\n       </defs>\n       <use xlink:href=\"#DejaVuSerif-30\"/>\n       <use xlink:href=\"#DejaVuSerif-2e\" x=\"63.623047\"/>\n       <use xlink:href=\"#DejaVuSerif-32\" x=\"95.410156\"/>\n      </g>\n     </g>\n    </g>\n    <g id=\"xtick_3\">\n     <g id=\"line2d_5\">\n      <path d=\"M 173.47875 205.16688 \nL 173.47875 3.6 \n\" clip-path=\"url(#pfc0995add5)\" style=\"fill: none; stroke: #000000; stroke-opacity: 0.3; stroke-width: 0.25; stroke-linecap: square\"/>\n     </g>\n     <g id=\"line2d_6\">\n      <g>\n       <use xlink:href=\"#m99245255de\" x=\"173.47875\" y=\"205.16688\" style=\"stroke: #000000; stroke-width: 0.8\"/>\n      </g>\n     </g>\n     <g id=\"text_3\">\n      <!-- 0.4 -->\n      <g transform=\"translate(166.322344 219.005474)scale(0.09 -0.09)\">\n       <defs>\n        <path id=\"DejaVuSerif-34\" d=\"M 2234 1581 \nL 2234 4063 \nL 641 1581 \nL 2234 1581 \nz\nM 3609 0 \nL 1484 0 \nL 1484 331 \nL 2234 331 \nL 2234 1247 \nL 197 1247 \nL 197 1588 \nL 2241 4750 \nL 2859 4750 \nL 2859 1581 \nL 3750 1581 \nL 3750 1247 \nL 2859 1247 \nL 2859 331 \nL 3609 331 \nL 3609 0 \nz\n\" transform=\"scale(0.015625)\"/>\n       </defs>\n       <use xlink:href=\"#DejaVuSerif-30\"/>\n       <use xlink:href=\"#DejaVuSerif-2e\" x=\"63.623047\"/>\n       <use xlink:href=\"#DejaVuSerif-34\" x=\"95.410156\"/>\n      </g>\n     </g>\n    </g>\n    <g id=\"xtick_4\">\n     <g id=\"line2d_7\">\n      <path d=\"M 240.43875 205.16688 \nL 240.43875 3.6 \n\" clip-path=\"url(#pfc0995add5)\" style=\"fill: none; stroke: #000000; stroke-opacity: 0.3; stroke-width: 0.25; stroke-linecap: square\"/>\n     </g>\n     <g id=\"line2d_8\">\n      <g>\n       <use xlink:href=\"#m99245255de\" x=\"240.43875\" y=\"205.16688\" style=\"stroke: #000000; stroke-width: 0.8\"/>\n      </g>\n     </g>\n     <g id=\"text_4\">\n      <!-- 0.6 -->\n      <g transform=\"translate(233.282344 219.005474)scale(0.09 -0.09)\">\n       <defs>\n        <path id=\"DejaVuSerif-36\" d=\"M 2094 219 \nQ 2534 219 2771 542 \nQ 3009 866 3009 1472 \nQ 3009 2078 2771 2401 \nQ 2534 2725 2094 2725 \nQ 1647 2725 1412 2412 \nQ 1178 2100 1178 1509 \nQ 1178 888 1415 553 \nQ 1653 219 2094 219 \nz\nM 1075 2569 \nQ 1288 2803 1556 2918 \nQ 1825 3034 2163 3034 \nQ 2859 3034 3264 2615 \nQ 3669 2197 3669 1472 \nQ 3669 763 3233 336 \nQ 2797 -91 2069 -91 \nQ 1278 -91 853 498 \nQ 428 1088 428 2181 \nQ 428 3406 931 4078 \nQ 1434 4750 2350 4750 \nQ 2597 4750 2869 4703 \nQ 3141 4656 3425 4563 \nL 3425 3794 \nL 3072 3794 \nQ 3034 4109 2831 4275 \nQ 2628 4441 2284 4441 \nQ 1678 4441 1381 3981 \nQ 1084 3522 1075 2569 \nz\n\" transform=\"scale(0.015625)\"/>\n       </defs>\n       <use xlink:href=\"#DejaVuSerif-30\"/>\n       <use xlink:href=\"#DejaVuSerif-2e\" x=\"63.623047\"/>\n       <use xlink:href=\"#DejaVuSerif-36\" x=\"95.410156\"/>\n      </g>\n     </g>\n    </g>\n    <g id=\"xtick_5\">\n     <g id=\"line2d_9\">\n      <path d=\"M 307.39875 205.16688 \nL 307.39875 3.6 \n\" clip-path=\"url(#pfc0995add5)\" style=\"fill: none; stroke: #000000; stroke-opacity: 0.3; stroke-width: 0.25; stroke-linecap: square\"/>\n     </g>\n     <g id=\"line2d_10\">\n      <g>\n       <use xlink:href=\"#m99245255de\" x=\"307.39875\" y=\"205.16688\" style=\"stroke: #000000; stroke-width: 0.8\"/>\n      </g>\n     </g>\n     <g id=\"text_5\">\n      <!-- 0.8 -->\n      <g transform=\"translate(300.242344 219.005474)scale(0.09 -0.09)\">\n       <defs>\n        <path id=\"DejaVuSerif-38\" d=\"M 2981 1275 \nQ 2981 1775 2732 2051 \nQ 2484 2328 2034 2328 \nQ 1584 2328 1336 2051 \nQ 1088 1775 1088 1275 \nQ 1088 772 1336 495 \nQ 1584 219 2034 219 \nQ 2484 219 2732 495 \nQ 2981 772 2981 1275 \nz\nM 2853 3541 \nQ 2853 3966 2637 4203 \nQ 2422 4441 2034 4441 \nQ 1650 4441 1433 4203 \nQ 1216 3966 1216 3541 \nQ 1216 3113 1433 2875 \nQ 1650 2638 2034 2638 \nQ 2422 2638 2637 2875 \nQ 2853 3113 2853 3541 \nz\nM 2516 2484 \nQ 3047 2413 3344 2092 \nQ 3641 1772 3641 1275 \nQ 3641 619 3225 264 \nQ 2809 -91 2034 -91 \nQ 1263 -91 845 264 \nQ 428 619 428 1275 \nQ 428 1772 725 2092 \nQ 1022 2413 1556 2484 \nQ 1084 2569 832 2842 \nQ 581 3116 581 3541 \nQ 581 4103 968 4426 \nQ 1356 4750 2034 4750 \nQ 2713 4750 3100 4426 \nQ 3488 4103 3488 3541 \nQ 3488 3116 3236 2842 \nQ 2984 2569 2516 2484 \nz\n\" transform=\"scale(0.015625)\"/>\n       </defs>\n       <use xlink:href=\"#DejaVuSerif-30\"/>\n       <use xlink:href=\"#DejaVuSerif-2e\" x=\"63.623047\"/>\n       <use xlink:href=\"#DejaVuSerif-38\" x=\"95.410156\"/>\n      </g>\n     </g>\n    </g>\n    <g id=\"xtick_6\">\n     <g id=\"line2d_11\">\n      <path d=\"M 374.35875 205.16688 \nL 374.35875 3.6 \n\" clip-path=\"url(#pfc0995add5)\" style=\"fill: none; stroke: #000000; stroke-opacity: 0.3; stroke-width: 0.25; stroke-linecap: square\"/>\n     </g>\n     <g id=\"line2d_12\">\n      <g>\n       <use xlink:href=\"#m99245255de\" x=\"374.35875\" y=\"205.16688\" style=\"stroke: #000000; stroke-width: 0.8\"/>\n      </g>\n     </g>\n     <g id=\"text_6\">\n      <!-- 1.0 -->\n      <g transform=\"translate(367.202344 219.005474)scale(0.09 -0.09)\">\n       <defs>\n        <path id=\"DejaVuSerif-31\" d=\"M 909 0 \nL 909 331 \nL 1722 331 \nL 1722 4213 \nL 781 3603 \nL 781 4013 \nL 1919 4750 \nL 2350 4750 \nL 2350 331 \nL 3163 331 \nL 3163 0 \nL 909 0 \nz\n\" transform=\"scale(0.015625)\"/>\n       </defs>\n       <use xlink:href=\"#DejaVuSerif-31\"/>\n       <use xlink:href=\"#DejaVuSerif-2e\" x=\"63.623047\"/>\n       <use xlink:href=\"#DejaVuSerif-30\" x=\"95.410156\"/>\n      </g>\n     </g>\n    </g>\n    <g id=\"text_7\">\n     <!-- Laser power [W] -->\n     <g transform=\"translate(160.45625 233.235474)scale(0.11 -0.11)\">\n      <defs>\n       <path id=\"DejaVuSerif-4c\" d=\"M 353 0 \nL 353 331 \nL 947 331 \nL 947 4331 \nL 353 4331 \nL 353 4666 \nL 2175 4666 \nL 2175 4331 \nL 1581 4331 \nL 1581 384 \nL 3713 384 \nL 3713 1166 \nL 4097 1166 \nL 4097 0 \nL 353 0 \nz\n\" transform=\"scale(0.015625)\"/>\n       <path id=\"DejaVuSerif-61\" d=\"M 2547 1044 \nL 2547 1747 \nL 1806 1747 \nQ 1378 1747 1168 1562 \nQ 959 1378 959 997 \nQ 959 650 1171 447 \nQ 1384 244 1747 244 \nQ 2106 244 2326 466 \nQ 2547 688 2547 1044 \nz\nM 3122 2075 \nL 3122 331 \nL 3634 331 \nL 3634 0 \nL 2547 0 \nL 2547 359 \nQ 2356 128 2106 18 \nQ 1856 -91 1522 -91 \nQ 969 -91 644 203 \nQ 319 497 319 997 \nQ 319 1513 691 1797 \nQ 1063 2081 1741 2081 \nL 2547 2081 \nL 2547 2309 \nQ 2547 2688 2317 2895 \nQ 2088 3103 1672 3103 \nQ 1328 3103 1125 2947 \nQ 922 2791 872 2484 \nL 575 2484 \nL 575 3156 \nQ 875 3284 1158 3348 \nQ 1441 3413 1709 3413 \nQ 2400 3413 2761 3070 \nQ 3122 2728 3122 2075 \nz\n\" transform=\"scale(0.015625)\"/>\n       <path id=\"DejaVuSerif-73\" d=\"M 359 184 \nL 359 959 \nL 691 959 \nQ 703 588 923 403 \nQ 1144 219 1575 219 \nQ 1963 219 2166 364 \nQ 2369 509 2369 788 \nQ 2369 1006 2220 1140 \nQ 2072 1275 1594 1428 \nL 1178 1569 \nQ 750 1706 558 1912 \nQ 366 2119 366 2438 \nQ 366 2894 700 3153 \nQ 1034 3413 1625 3413 \nQ 1888 3413 2178 3344 \nQ 2469 3275 2778 3144 \nL 2778 2419 \nL 2447 2419 \nQ 2434 2741 2221 2922 \nQ 2009 3103 1644 3103 \nQ 1281 3103 1095 2975 \nQ 909 2847 909 2591 \nQ 909 2381 1050 2254 \nQ 1191 2128 1613 1997 \nL 2069 1856 \nQ 2541 1709 2748 1489 \nQ 2956 1269 2956 922 \nQ 2956 450 2595 179 \nQ 2234 -91 1600 -91 \nQ 1278 -91 972 -22 \nQ 666 47 359 184 \nz\n\" transform=\"scale(0.015625)\"/>\n       <path id=\"DejaVuSerif-65\" d=\"M 3469 1600 \nL 991 1600 \nL 991 1575 \nQ 991 903 1244 561 \nQ 1497 219 1991 219 \nQ 2369 219 2611 417 \nQ 2853 616 2950 1006 \nL 3413 1006 \nQ 3275 459 2904 184 \nQ 2534 -91 1931 -91 \nQ 1203 -91 761 389 \nQ 319 869 319 1663 \nQ 319 2450 753 2931 \nQ 1188 3413 1894 3413 \nQ 2647 3413 3050 2948 \nQ 3453 2484 3469 1600 \nz\nM 2791 1931 \nQ 2772 2513 2545 2808 \nQ 2319 3103 1894 3103 \nQ 1497 3103 1269 2806 \nQ 1041 2509 991 1931 \nL 2791 1931 \nz\n\" transform=\"scale(0.015625)\"/>\n       <path id=\"DejaVuSerif-72\" d=\"M 3059 3328 \nL 3059 2497 \nL 2728 2497 \nQ 2713 2744 2591 2866 \nQ 2469 2988 2234 2988 \nQ 1809 2988 1582 2694 \nQ 1356 2400 1356 1850 \nL 1356 331 \nL 2022 331 \nL 2022 0 \nL 263 0 \nL 263 331 \nL 781 331 \nL 781 2994 \nL 231 2994 \nL 231 3322 \nL 1356 3322 \nL 1356 2731 \nQ 1525 3078 1790 3245 \nQ 2056 3413 2438 3413 \nQ 2578 3413 2733 3391 \nQ 2888 3369 3059 3328 \nz\n\" transform=\"scale(0.015625)\"/>\n       <path id=\"DejaVuSerif-20\" transform=\"scale(0.015625)\"/>\n       <path id=\"DejaVuSerif-70\" d=\"M 1313 1825 \nL 1313 1497 \nQ 1313 897 1542 583 \nQ 1772 269 2209 269 \nQ 2650 269 2876 622 \nQ 3103 975 3103 1663 \nQ 3103 2353 2876 2703 \nQ 2650 3053 2209 3053 \nQ 1772 3053 1542 2737 \nQ 1313 2422 1313 1825 \nz\nM 738 2988 \nL 184 2988 \nL 184 3322 \nL 1313 3322 \nL 1313 2803 \nQ 1481 3116 1742 3264 \nQ 2003 3413 2388 3413 \nQ 3000 3413 3387 2928 \nQ 3775 2444 3775 1663 \nQ 3775 881 3387 395 \nQ 3000 -91 2388 -91 \nQ 2003 -91 1742 57 \nQ 1481 206 1313 519 \nL 1313 -997 \nL 1856 -997 \nL 1856 -1331 \nL 184 -1331 \nL 184 -997 \nL 738 -997 \nL 738 2988 \nz\n\" transform=\"scale(0.015625)\"/>\n       <path id=\"DejaVuSerif-6f\" d=\"M 1925 219 \nQ 2388 219 2623 584 \nQ 2859 950 2859 1663 \nQ 2859 2375 2623 2739 \nQ 2388 3103 1925 3103 \nQ 1463 3103 1227 2739 \nQ 991 2375 991 1663 \nQ 991 950 1228 584 \nQ 1466 219 1925 219 \nz\nM 1925 -91 \nQ 1200 -91 759 389 \nQ 319 869 319 1663 \nQ 319 2456 758 2934 \nQ 1197 3413 1925 3413 \nQ 2653 3413 3092 2934 \nQ 3531 2456 3531 1663 \nQ 3531 869 3092 389 \nQ 2653 -91 1925 -91 \nz\n\" transform=\"scale(0.015625)\"/>\n       <path id=\"DejaVuSerif-77\" d=\"M 3072 3322 \nL 3922 728 \nL 4672 2988 \nL 4191 2988 \nL 4191 3322 \nL 5394 3322 \nL 5394 2988 \nL 5025 2988 \nL 4038 0 \nL 3559 0 \nL 2741 2484 \nL 1919 0 \nL 1459 0 \nL 475 2988 \nL 103 2988 \nL 103 3322 \nL 1606 3322 \nL 1606 2988 \nL 1069 2988 \nL 1813 728 \nL 2669 3322 \nL 3072 3322 \nz\n\" transform=\"scale(0.015625)\"/>\n       <path id=\"DejaVuSerif-5b\" d=\"M 550 4863 \nL 2003 4863 \nL 2003 4531 \nL 1147 4531 \nL 1147 -513 \nL 2003 -513 \nL 2003 -844 \nL 550 -844 \nL 550 4863 \nz\n\" transform=\"scale(0.015625)\"/>\n       <path id=\"DejaVuSerif-57\" d=\"M 4878 0 \nL 4366 0 \nL 3297 3794 \nL 2228 0 \nL 1716 0 \nL 494 4331 \nL 31 4331 \nL 31 4666 \nL 1734 4666 \nL 1734 4331 \nL 1153 4331 \nL 2125 884 \nL 3188 4666 \nL 3694 4666 \nL 4775 844 \nL 5753 4331 \nL 5216 4331 \nL 5216 4666 \nL 6559 4666 \nL 6559 4331 \nL 6100 4331 \nL 4878 0 \nz\n\" transform=\"scale(0.015625)\"/>\n       <path id=\"DejaVuSerif-5d\" d=\"M 1947 4863 \nL 1947 -844 \nL 494 -844 \nL 494 -513 \nL 1350 -513 \nL 1350 4531 \nL 494 4531 \nL 494 4863 \nL 1947 4863 \nz\n\" transform=\"scale(0.015625)\"/>\n      </defs>\n      <use xlink:href=\"#DejaVuSerif-4c\"/>\n      <use xlink:href=\"#DejaVuSerif-61\" x=\"66.40625\"/>\n      <use xlink:href=\"#DejaVuSerif-73\" x=\"126.025391\"/>\n      <use xlink:href=\"#DejaVuSerif-65\" x=\"177.34375\"/>\n      <use xlink:href=\"#DejaVuSerif-72\" x=\"236.523438\"/>\n      <use xlink:href=\"#DejaVuSerif-20\" x=\"284.326172\"/>\n      <use xlink:href=\"#DejaVuSerif-70\" x=\"316.113281\"/>\n      <use xlink:href=\"#DejaVuSerif-6f\" x=\"380.126953\"/>\n      <use xlink:href=\"#DejaVuSerif-77\" x=\"440.332031\"/>\n      <use xlink:href=\"#DejaVuSerif-65\" x=\"525.927734\"/>\n      <use xlink:href=\"#DejaVuSerif-72\" x=\"585.107422\"/>\n      <use xlink:href=\"#DejaVuSerif-20\" x=\"632.910156\"/>\n      <use xlink:href=\"#DejaVuSerif-5b\" x=\"664.697266\"/>\n      <use xlink:href=\"#DejaVuSerif-57\" x=\"703.710938\"/>\n      <use xlink:href=\"#DejaVuSerif-5d\" x=\"806.494141\"/>\n     </g>\n    </g>\n   </g>\n   <g id=\"matplotlib.axis_2\">\n    <g id=\"ytick_1\">\n     <g id=\"line2d_13\">\n      <path d=\"M 39.55875 196.004749 \nL 374.35875 196.004749 \n\" clip-path=\"url(#pfc0995add5)\" style=\"fill: none; stroke: #000000; stroke-opacity: 0.3; stroke-width: 0.25; stroke-linecap: square\"/>\n     </g>\n     <g id=\"line2d_14\">\n      <defs>\n       <path id=\"mdeeda57568\" d=\"M 0 0 \nL -3.5 0 \n\" style=\"stroke: #000000; stroke-width: 0.8\"/>\n      </defs>\n      <g>\n       <use xlink:href=\"#mdeeda57568\" x=\"39.55875\" y=\"196.004749\" style=\"stroke: #000000; stroke-width: 0.8\"/>\n      </g>\n     </g>\n     <g id=\"text_8\">\n      <!-- 0.0 -->\n      <g transform=\"translate(18.245938 199.424046)scale(0.09 -0.09)\">\n       <use xlink:href=\"#DejaVuSerif-30\"/>\n       <use xlink:href=\"#DejaVuSerif-2e\" x=\"63.623047\"/>\n       <use xlink:href=\"#DejaVuSerif-30\" x=\"95.410156\"/>\n      </g>\n     </g>\n    </g>\n    <g id=\"ytick_2\">\n     <g id=\"line2d_15\">\n      <path d=\"M 39.55875 159.356225 \nL 374.35875 159.356225 \n\" clip-path=\"url(#pfc0995add5)\" style=\"fill: none; stroke: #000000; stroke-opacity: 0.3; stroke-width: 0.25; stroke-linecap: square\"/>\n     </g>\n     <g id=\"line2d_16\">\n      <g>\n       <use xlink:href=\"#mdeeda57568\" x=\"39.55875\" y=\"159.356225\" style=\"stroke: #000000; stroke-width: 0.8\"/>\n      </g>\n     </g>\n     <g id=\"text_9\">\n      <!-- 0.1 -->\n      <g transform=\"translate(18.245938 162.775522)scale(0.09 -0.09)\">\n       <use xlink:href=\"#DejaVuSerif-30\"/>\n       <use xlink:href=\"#DejaVuSerif-2e\" x=\"63.623047\"/>\n       <use xlink:href=\"#DejaVuSerif-31\" x=\"95.410156\"/>\n      </g>\n     </g>\n    </g>\n    <g id=\"ytick_3\">\n     <g id=\"line2d_17\">\n      <path d=\"M 39.55875 122.707702 \nL 374.35875 122.707702 \n\" clip-path=\"url(#pfc0995add5)\" style=\"fill: none; stroke: #000000; stroke-opacity: 0.3; stroke-width: 0.25; stroke-linecap: square\"/>\n     </g>\n     <g id=\"line2d_18\">\n      <g>\n       <use xlink:href=\"#mdeeda57568\" x=\"39.55875\" y=\"122.707702\" style=\"stroke: #000000; stroke-width: 0.8\"/>\n      </g>\n     </g>\n     <g id=\"text_10\">\n      <!-- 0.2 -->\n      <g transform=\"translate(18.245938 126.126999)scale(0.09 -0.09)\">\n       <use xlink:href=\"#DejaVuSerif-30\"/>\n       <use xlink:href=\"#DejaVuSerif-2e\" x=\"63.623047\"/>\n       <use xlink:href=\"#DejaVuSerif-32\" x=\"95.410156\"/>\n      </g>\n     </g>\n    </g>\n    <g id=\"ytick_4\">\n     <g id=\"line2d_19\">\n      <path d=\"M 39.55875 86.059178 \nL 374.35875 86.059178 \n\" clip-path=\"url(#pfc0995add5)\" style=\"fill: none; stroke: #000000; stroke-opacity: 0.3; stroke-width: 0.25; stroke-linecap: square\"/>\n     </g>\n     <g id=\"line2d_20\">\n      <g>\n       <use xlink:href=\"#mdeeda57568\" x=\"39.55875\" y=\"86.059178\" style=\"stroke: #000000; stroke-width: 0.8\"/>\n      </g>\n     </g>\n     <g id=\"text_11\">\n      <!-- 0.3 -->\n      <g transform=\"translate(18.245938 89.478475)scale(0.09 -0.09)\">\n       <defs>\n        <path id=\"DejaVuSerif-33\" d=\"M 622 4469 \nQ 988 4606 1323 4678 \nQ 1659 4750 1953 4750 \nQ 2638 4750 3022 4454 \nQ 3406 4159 3406 3634 \nQ 3406 3213 3140 2930 \nQ 2875 2647 2388 2547 \nQ 2963 2466 3280 2130 \nQ 3597 1794 3597 1259 \nQ 3597 606 3158 257 \nQ 2719 -91 1894 -91 \nQ 1528 -91 1179 -12 \nQ 831 66 488 225 \nL 488 1131 \nL 838 1131 \nQ 869 681 1141 450 \nQ 1413 219 1906 219 \nQ 2384 219 2661 495 \nQ 2938 772 2938 1253 \nQ 2938 1803 2653 2086 \nQ 2369 2369 1819 2369 \nL 1522 2369 \nL 1522 2688 \nL 1678 2688 \nQ 2225 2688 2498 2914 \nQ 2772 3141 2772 3597 \nQ 2772 4006 2547 4223 \nQ 2322 4441 1900 4441 \nQ 1478 4441 1245 4241 \nQ 1013 4041 972 3647 \nL 622 3647 \nL 622 4469 \nz\n\" transform=\"scale(0.015625)\"/>\n       </defs>\n       <use xlink:href=\"#DejaVuSerif-30\"/>\n       <use xlink:href=\"#DejaVuSerif-2e\" x=\"63.623047\"/>\n       <use xlink:href=\"#DejaVuSerif-33\" x=\"95.410156\"/>\n      </g>\n     </g>\n    </g>\n    <g id=\"ytick_5\">\n     <g id=\"line2d_21\">\n      <path d=\"M 39.55875 49.410655 \nL 374.35875 49.410655 \n\" clip-path=\"url(#pfc0995add5)\" style=\"fill: none; stroke: #000000; stroke-opacity: 0.3; stroke-width: 0.25; stroke-linecap: square\"/>\n     </g>\n     <g id=\"line2d_22\">\n      <g>\n       <use xlink:href=\"#mdeeda57568\" x=\"39.55875\" y=\"49.410655\" style=\"stroke: #000000; stroke-width: 0.8\"/>\n      </g>\n     </g>\n     <g id=\"text_12\">\n      <!-- 0.4 -->\n      <g transform=\"translate(18.245938 52.829951)scale(0.09 -0.09)\">\n       <use xlink:href=\"#DejaVuSerif-30\"/>\n       <use xlink:href=\"#DejaVuSerif-2e\" x=\"63.623047\"/>\n       <use xlink:href=\"#DejaVuSerif-34\" x=\"95.410156\"/>\n      </g>\n     </g>\n    </g>\n    <g id=\"ytick_6\">\n     <g id=\"line2d_23\">\n      <path d=\"M 39.55875 12.762131 \nL 374.35875 12.762131 \n\" clip-path=\"url(#pfc0995add5)\" style=\"fill: none; stroke: #000000; stroke-opacity: 0.3; stroke-width: 0.25; stroke-linecap: square\"/>\n     </g>\n     <g id=\"line2d_24\">\n      <g>\n       <use xlink:href=\"#mdeeda57568\" x=\"39.55875\" y=\"12.762131\" style=\"stroke: #000000; stroke-width: 0.8\"/>\n      </g>\n     </g>\n     <g id=\"text_13\">\n      <!-- 0.5 -->\n      <g transform=\"translate(18.245938 16.181428)scale(0.09 -0.09)\">\n       <defs>\n        <path id=\"DejaVuSerif-35\" d=\"M 3219 4666 \nL 3219 4153 \nL 1081 4153 \nL 1081 2816 \nQ 1244 2928 1461 2984 \nQ 1678 3041 1947 3041 \nQ 2703 3041 3140 2622 \nQ 3578 2203 3578 1478 \nQ 3578 738 3136 323 \nQ 2694 -91 1894 -91 \nQ 1572 -91 1234 -12 \nQ 897 66 544 225 \nL 544 1131 \nL 897 1131 \nQ 925 688 1179 453 \nQ 1434 219 1894 219 \nQ 2388 219 2653 544 \nQ 2919 869 2919 1478 \nQ 2919 2084 2655 2407 \nQ 2391 2731 1894 2731 \nQ 1613 2731 1398 2631 \nQ 1184 2531 1019 2322 \nL 750 2322 \nL 750 4666 \nL 3219 4666 \nz\n\" transform=\"scale(0.015625)\"/>\n       </defs>\n       <use xlink:href=\"#DejaVuSerif-30\"/>\n       <use xlink:href=\"#DejaVuSerif-2e\" x=\"63.623047\"/>\n       <use xlink:href=\"#DejaVuSerif-35\" x=\"95.410156\"/>\n      </g>\n     </g>\n    </g>\n    <g id=\"text_14\">\n     <!-- Power [W] -->\n     <g transform=\"translate(11.958281 133.459534)rotate(-90)scale(0.11 -0.11)\">\n      <defs>\n       <path id=\"DejaVuSerif-50\" d=\"M 1581 2375 \nL 2406 2375 \nQ 2872 2375 3115 2626 \nQ 3359 2878 3359 3353 \nQ 3359 3831 3115 4081 \nQ 2872 4331 2406 4331 \nL 1581 4331 \nL 1581 2375 \nz\nM 353 0 \nL 353 331 \nL 947 331 \nL 947 4331 \nL 353 4331 \nL 353 4666 \nL 2559 4666 \nQ 3259 4666 3668 4311 \nQ 4078 3956 4078 3353 \nQ 4078 2753 3668 2397 \nQ 3259 2041 2559 2041 \nL 1581 2041 \nL 1581 331 \nL 2303 331 \nL 2303 0 \nL 353 0 \nz\n\" transform=\"scale(0.015625)\"/>\n      </defs>\n      <use xlink:href=\"#DejaVuSerif-50\"/>\n      <use xlink:href=\"#DejaVuSerif-6f\" x=\"63.285156\"/>\n      <use xlink:href=\"#DejaVuSerif-77\" x=\"123.490234\"/>\n      <use xlink:href=\"#DejaVuSerif-65\" x=\"209.085938\"/>\n      <use xlink:href=\"#DejaVuSerif-72\" x=\"268.265625\"/>\n      <use xlink:href=\"#DejaVuSerif-20\" x=\"316.068359\"/>\n      <use xlink:href=\"#DejaVuSerif-5b\" x=\"347.855469\"/>\n      <use xlink:href=\"#DejaVuSerif-57\" x=\"386.869141\"/>\n      <use xlink:href=\"#DejaVuSerif-5d\" x=\"489.652344\"/>\n     </g>\n    </g>\n   </g>\n   <g id=\"line2d_25\">\n    <path d=\"M 39.55875 196.004749 \nL 73.03875 177.680487 \nL 106.51875 159.356225 \nL 139.99875 141.031964 \nL 173.47875 122.707702 \nL 206.95875 104.38344 \nL 240.43875 86.059178 \nL 273.91875 67.734916 \nL 307.39875 49.410655 \nL 340.87875 31.086393 \nL 374.35875 12.762131 \n\" clip-path=\"url(#pfc0995add5)\" style=\"fill: none; stroke: #0000ff; stroke-width: 1.5; stroke-linecap: square\"/>\n   </g>\n   <g id=\"patch_3\">\n    <path d=\"M 39.55875 205.16688 \nL 39.55875 3.6 \n\" style=\"fill: none; stroke: #000000; stroke-width: 0.8; stroke-linejoin: miter; stroke-linecap: square\"/>\n   </g>\n   <g id=\"patch_4\">\n    <path d=\"M 374.35875 205.16688 \nL 374.35875 3.6 \n\" style=\"fill: none; stroke: #000000; stroke-width: 0.8; stroke-linejoin: miter; stroke-linecap: square\"/>\n   </g>\n   <g id=\"patch_5\">\n    <path d=\"M 39.55875 205.16688 \nL 374.35875 205.16688 \n\" style=\"fill: none; stroke: #000000; stroke-width: 0.8; stroke-linejoin: miter; stroke-linecap: square\"/>\n   </g>\n   <g id=\"patch_6\">\n    <path d=\"M 39.55875 3.6 \nL 374.35875 3.6 \n\" style=\"fill: none; stroke: #000000; stroke-width: 0.8; stroke-linejoin: miter; stroke-linecap: square\"/>\n   </g>\n   <g id=\"legend_1\">\n    <g id=\"patch_7\">\n     <path d=\"M 45.85875 24.010312 \nL 161.785781 24.010312 \nQ 163.585781 24.010312 163.585781 22.210312 \nL 163.585781 9.9 \nQ 163.585781 8.1 161.785781 8.1 \nL 45.85875 8.1 \nQ 44.05875 8.1 44.05875 9.9 \nL 44.05875 22.210312 \nQ 44.05875 24.010312 45.85875 24.010312 \nz\n\" style=\"fill: #ffffff; opacity: 0.8; stroke: #cccccc; stroke-linejoin: miter\"/>\n    </g>\n    <g id=\"line2d_26\">\n     <path d=\"M 47.65875 15.388594 \nL 56.65875 15.388594 \nL 65.65875 15.388594 \n\" style=\"fill: none; stroke: #0000ff; stroke-width: 1.5; stroke-linecap: square\"/>\n    </g>\n    <g id=\"text_15\">\n     <!-- Transmitted Power -->\n     <g transform=\"translate(72.85875 18.538594)scale(0.09 -0.09)\">\n      <defs>\n       <path id=\"DejaVuSerif-54\" d=\"M 1222 0 \nL 1222 331 \nL 1819 331 \nL 1819 4294 \nL 447 4294 \nL 447 3566 \nL 63 3566 \nL 63 4666 \nL 4206 4666 \nL 4206 3566 \nL 3822 3566 \nL 3822 4294 \nL 2450 4294 \nL 2450 331 \nL 3047 331 \nL 3047 0 \nL 1222 0 \nz\n\" transform=\"scale(0.015625)\"/>\n       <path id=\"DejaVuSerif-6e\" d=\"M 263 0 \nL 263 331 \nL 781 331 \nL 781 2988 \nL 231 2988 \nL 231 3322 \nL 1356 3322 \nL 1356 2731 \nQ 1516 3069 1770 3241 \nQ 2025 3413 2363 3413 \nQ 2913 3413 3172 3097 \nQ 3431 2781 3431 2113 \nL 3431 331 \nL 3944 331 \nL 3944 0 \nL 2356 0 \nL 2356 331 \nL 2853 331 \nL 2853 1931 \nQ 2853 2541 2703 2767 \nQ 2553 2994 2175 2994 \nQ 1775 2994 1565 2701 \nQ 1356 2409 1356 1850 \nL 1356 331 \nL 1856 331 \nL 1856 0 \nL 263 0 \nz\n\" transform=\"scale(0.015625)\"/>\n       <path id=\"DejaVuSerif-6d\" d=\"M 3316 2675 \nQ 3481 3041 3739 3227 \nQ 3997 3413 4341 3413 \nQ 4863 3413 5119 3089 \nQ 5375 2766 5375 2113 \nL 5375 331 \nL 5894 331 \nL 5894 0 \nL 4300 0 \nL 4300 331 \nL 4800 331 \nL 4800 2047 \nQ 4800 2556 4650 2772 \nQ 4500 2988 4153 2988 \nQ 3769 2988 3567 2697 \nQ 3366 2406 3366 1850 \nL 3366 331 \nL 3866 331 \nL 3866 0 \nL 2291 0 \nL 2291 331 \nL 2791 331 \nL 2791 2069 \nQ 2791 2566 2641 2777 \nQ 2491 2988 2144 2988 \nQ 1759 2988 1557 2697 \nQ 1356 2406 1356 1850 \nL 1356 331 \nL 1856 331 \nL 1856 0 \nL 263 0 \nL 263 331 \nL 781 331 \nL 781 2994 \nL 231 2994 \nL 231 3322 \nL 1356 3322 \nL 1356 2731 \nQ 1516 3063 1762 3238 \nQ 2009 3413 2322 3413 \nQ 2709 3413 2968 3220 \nQ 3228 3028 3316 2675 \nz\n\" transform=\"scale(0.015625)\"/>\n       <path id=\"DejaVuSerif-69\" d=\"M 622 4353 \nQ 622 4497 726 4603 \nQ 831 4709 978 4709 \nQ 1122 4709 1226 4603 \nQ 1331 4497 1331 4353 \nQ 1331 4206 1228 4103 \nQ 1125 4000 978 4000 \nQ 831 4000 726 4103 \nQ 622 4206 622 4353 \nz\nM 1356 331 \nL 1900 331 \nL 1900 0 \nL 231 0 \nL 231 331 \nL 781 331 \nL 781 2988 \nL 231 2988 \nL 231 3322 \nL 1356 3322 \nL 1356 331 \nz\n\" transform=\"scale(0.015625)\"/>\n       <path id=\"DejaVuSerif-74\" d=\"M 691 2988 \nL 184 2988 \nL 184 3322 \nL 691 3322 \nL 691 4353 \nL 1269 4353 \nL 1269 3322 \nL 2350 3322 \nL 2350 2988 \nL 1269 2988 \nL 1269 878 \nQ 1269 456 1350 337 \nQ 1431 219 1650 219 \nQ 1875 219 1978 351 \nQ 2081 484 2088 781 \nL 2522 781 \nQ 2497 328 2275 118 \nQ 2053 -91 1600 -91 \nQ 1103 -91 897 129 \nQ 691 350 691 878 \nL 691 2988 \nz\n\" transform=\"scale(0.015625)\"/>\n       <path id=\"DejaVuSerif-64\" d=\"M 3359 331 \nL 3909 331 \nL 3909 0 \nL 2784 0 \nL 2784 519 \nQ 2616 206 2355 57 \nQ 2094 -91 1709 -91 \nQ 1097 -91 708 395 \nQ 319 881 319 1663 \nQ 319 2444 706 2928 \nQ 1094 3413 1709 3413 \nQ 2094 3413 2355 3264 \nQ 2616 3116 2784 2803 \nL 2784 4531 \nL 2241 4531 \nL 2241 4863 \nL 3359 4863 \nL 3359 331 \nz\nM 2784 1497 \nL 2784 1825 \nQ 2784 2422 2554 2737 \nQ 2325 3053 1888 3053 \nQ 1444 3053 1217 2703 \nQ 991 2353 991 1663 \nQ 991 975 1217 622 \nQ 1444 269 1888 269 \nQ 2325 269 2554 583 \nQ 2784 897 2784 1497 \nz\n\" transform=\"scale(0.015625)\"/>\n      </defs>\n      <use xlink:href=\"#DejaVuSerif-54\"/>\n      <use xlink:href=\"#DejaVuSerif-72\" x=\"66.699219\"/>\n      <use xlink:href=\"#DejaVuSerif-61\" x=\"114.501953\"/>\n      <use xlink:href=\"#DejaVuSerif-6e\" x=\"174.121094\"/>\n      <use xlink:href=\"#DejaVuSerif-73\" x=\"238.525391\"/>\n      <use xlink:href=\"#DejaVuSerif-6d\" x=\"289.84375\"/>\n      <use xlink:href=\"#DejaVuSerif-69\" x=\"384.667969\"/>\n      <use xlink:href=\"#DejaVuSerif-74\" x=\"416.650391\"/>\n      <use xlink:href=\"#DejaVuSerif-74\" x=\"456.835938\"/>\n      <use xlink:href=\"#DejaVuSerif-65\" x=\"497.021484\"/>\n      <use xlink:href=\"#DejaVuSerif-64\" x=\"556.201172\"/>\n      <use xlink:href=\"#DejaVuSerif-20\" x=\"620.214844\"/>\n      <use xlink:href=\"#DejaVuSerif-50\" x=\"652.001953\"/>\n      <use xlink:href=\"#DejaVuSerif-6f\" x=\"715.287109\"/>\n      <use xlink:href=\"#DejaVuSerif-77\" x=\"775.492188\"/>\n      <use xlink:href=\"#DejaVuSerif-65\" x=\"861.087891\"/>\n      <use xlink:href=\"#DejaVuSerif-72\" x=\"920.267578\"/>\n     </g>\n    </g>\n   </g>\n  </g>\n </g>\n <defs>\n  <clipPath id=\"pfc0995add5\">\n   <rect x=\"39.55875\" y=\"3.6\" width=\"334.8\" height=\"201.56688\"/>\n  </clipPath>\n </defs>\n</svg>\n",
      "text/plain": [
       "<Figure size 576x355.968 with 1 Axes>"
      ]
     },
     "metadata": {},
     "output_type": "display_data"
    }
   ],
   "source": [
    "fig = plt.figure()\n",
    "plt.plot(out1.x1, out1[\"pow_t\"], label=\"Transmitted Power\")\n",
    "plt.xlim(out1.x1.min(), out1.x1.max())\n",
    "plt.ylabel(\"Power [W]\")\n",
    "plt.xlabel(\"Laser power [W]\")\n",
    "plt.legend();"
   ]
  },
  {
   "cell_type": "markdown",
   "metadata": {},
   "source": [
    "The `out` object returned by the `run()` command is important as it contains all the results from the simulation as an array of numbers: the number of steps in the simulation is set with the `xaxis` command and represents the number of rows, with each colum holding the values of a detector, and one column storing the values of the xaxis.\n",
    "\n",
    "You can see the raw outputs with:"
   ]
  },
  {
   "cell_type": "code",
   "execution_count": 27,
   "metadata": {
    "scrolled": true
   },
   "outputs": [
    {
     "name": "stdout",
     "output_type": "stream",
     "text": [
      "(array([0. , 0.1, 0.2, 0.3, 0.4, 0.5, 0.6, 0.7, 0.8, 0.9, 1. ]),)\n",
      "None\n",
      "<class 'finesse.solutions.array.ArraySolution'>\n"
     ]
    }
   ],
   "source": [
    "print(out1.x) # show the xaxis values\n",
    "print(out1.y)\n",
    "print(type(out1))"
   ]
  },
  {
   "cell_type": "markdown",
   "metadata": {},
   "source": [
    "As you can see, they are quite long and not easily readable. Here we just have one detector, however, if we have more we would have more columns of data. To find out which column is which you need to look at the `out.ylabels` array:"
   ]
  },
  {
   "cell_type": "code",
   "execution_count": 28,
   "metadata": {},
   "outputs": [
    {
     "name": "stdout",
     "output_type": "stream",
     "text": [
      "('pow_t',)\n"
     ]
    }
   ],
   "source": [
    "print(out1.outputs)"
   ]
  },
  {
   "cell_type": "markdown",
   "metadata": {},
   "source": [
    "The recommended method for accessing the values of a particular detector is by using the detector's name as shown here:"
   ]
  },
  {
   "cell_type": "code",
   "execution_count": 29,
   "metadata": {
    "scrolled": true
   },
   "outputs": [
    {
     "data": {
      "text/plain": [
       "array([0.  , 0.05, 0.1 , 0.15, 0.2 , 0.25, 0.3 , 0.35, 0.4 , 0.45, 0.5 ])"
      ]
     },
     "execution_count": 29,
     "metadata": {},
     "output_type": "execute_result"
    }
   ],
   "source": [
    "out1[\"pow_t\"]"
   ]
  },
  {
   "cell_type": "markdown",
   "metadata": {},
   "source": [
    "# Your Tasks"
   ]
  },
  {
   "cell_type": "markdown",
   "metadata": {},
   "source": [
    "The following sections provide some simple tasks to get you up and running with Finesse and Pykat. The aim here is not to full understand the simulations but to just get something running. We hope that you can complete tasks 1 to 3 in one hour. Task 4 is an optional task for the faster students.\n",
    "\n",
    "You should **help each other**, **work in groups**, organise yourselves and don't forget to ask for help when needed!"
   ]
  },
  {
   "cell_type": "markdown",
   "metadata": {},
   "source": [
    "## Task 1: Check for power conservation\n",
    "\n",
    "Copy the example simulation from above ('A First Model'), and do the following:\n",
    "  1. Add `kat.noxaxis = True` (outside the model code), this tells Finesse to compute just one data point for our model and not change any parameters.\n",
    "  2. Add a second photo detector 'pow_r' to the model code to measure the reflected light.\n",
    "  3. Run this kat object to get the simulation output.\n",
    "  4. Check if the reflected and transmitted power match up with the input power"
   ]
  },
  {
   "cell_type": "code",
   "execution_count": null,
   "metadata": {},
   "outputs": [],
   "source": []
  },
  {
   "cell_type": "markdown",
   "metadata": {},
   "source": [
    "## Task 2: Add interferometer arms\n",
    "\n",
    "Copy the example simulation from above ('A First Model'), and do the following:\n",
    "  1. Turn the setup into a Michelson interferometer by adding a space and a mirror to the transmitted and reflection port of the beam splitter (node n3 and n4)\n",
    "  2. Set the length of the spaces to 3km and the mirror parameters of ETMx and ETMy to be R=1, T=0\n",
    "  3. remove the old xaxis command and replace it with this  \n",
    "  `xaxis ETMx phi lin 0 180 200`  \n",
    "  This will scan the mirror position (tuning) from 0 to 180 degrees in 200 steps. The microscopic tuning is given in degrees with $360$ deg being equivalent to one wavelength $\\lambda$, see the end of the notebook below for more information on that.\n",
    "  3. Run this kat object and plot the simulation output.\n",
    " \n",
    "<div style=\"background-color:white; padding:1em; text-align:center;\">\n",
    "<img src=\"michelson_with_nodes.svg\" width=\"90%\" />\n",
    "</div>"
   ]
  },
  {
   "cell_type": "code",
   "execution_count": null,
   "metadata": {},
   "outputs": [],
   "source": []
  },
  {
   "cell_type": "markdown",
   "metadata": {},
   "source": [
    "## Task 3: Investigate optical losees\n",
    "\n",
    "Copy the simulation you created in task 2 and do the following:\n",
    "  1. Reproduce simulation output for the normal Michelson from task 1, save the output object.\n",
    "  2. Add losses to ETMx (by setting R and T such that $R+T<1$, for example you can set the reflectivity to 70% with:  \n",
    "  `kat.ETMx.R=0.7`\n",
    "  3. Produce the output again for this new setup.\n",
    "  4. Plot the results from both simultions in the same plot."
   ]
  },
  {
   "cell_type": "code",
   "execution_count": null,
   "metadata": {},
   "outputs": [],
   "source": []
  },
  {
   "cell_type": "markdown",
   "metadata": {},
   "source": [
    "## Task 4: Make a cavity\n",
    "\n",
    "Optical cavities are based on the the original idea for a spectroscopy standard published by Fabry and Perot in 1899. Cavities are a fundamental building block of current gravitational wave detectors and an important instrument in laser optics. \n",
    "\n",
    "<div style=\"background-color:white; padding:1em; text-align:center;\">\n",
    "<img src=\"fabry-perot02.svg\" width=\"90%\" />\n",
    "</div>\n",
    "\n",
    "This is a sketch of the setup that we want to model. It consists of two mirrors m1 and m2, L meters apart. On the input side we have a laser and a beamsplitter. The beamsplitter is used to separate the input from the reflected light for detection. There is also a photodiode on transmission to measure the light passing through the cavity.\n",
    "\n",
    "Your tasks are:\n",
    "  1. Copy one of the simulation examples from above.\n",
    "  2. Replace the `code` block with your oen code describing the optical layout of a cavity.\n",
    "  3. Run two simulations to show how the two cavity powers vary over these two variables:  \n",
    "    (a) the microscopic position of the end mirror  \n",
    "    (b) the laser frequency  \n",
    "    Your plots should show a few resonances of the cavity.\n"
   ]
  },
  {
   "cell_type": "code",
   "execution_count": null,
   "metadata": {},
   "outputs": [],
   "source": []
  },
  {
   "cell_type": "markdown",
   "metadata": {},
   "source": [
    "# Additional Info\n",
    "\n",
    "## References for Python, Jupyter, Finesse and Pykat\n",
    "\n",
    "*Info and reference material for Finesse and Pykat *:\n",
    "  * Finesse main page: <a href=\"http://www.gwoptics.org/finesse\">http://www.gwoptics.org/finesse</a>\n",
    "  * <a href=\"http://www.gwoptics.org/finesse/reference/\">Finesse online syntax reference</a>\n",
    "  * <a href=\"http://kvasir.sr.bham.ac.uk/redmine/attachments/download/131/Finesse_2.0_manual.pdf\">Finesse manual</a> (>200 pages pdf file)\n",
    "  * <a href=\"http://www.gwoptics.org/learn/\">Learn Laser Interferometry</a>, our online collection of notebooks such as this one\n",
    "  * <a href='http://www.gwoptics.org/learn/01_Introduction/01_Getting_Started/03_Pykat.html'>reference notebook for Pykat</a>\n",
    "  \n",
    "  \n",
    "*Some info and reference material on Python and Jupyter *:\n",
    "  * A <a href=\"http://nbviewer.ipython.org/gist/rpmuller/5920182\">Crash Course in Python for Scientists</a>\n",
    "  * The <a href=\"https://docs.python.org/2/tutorial/\">Python tutorial</a> and a <a href=\"http://wiki.scipy.org/Tentative_NumPy_Tutorial\">Numpy tutorial</a>\n",
    "  * The <a href=\"http://jupyter.org/\">Jupyter project page</a> and a <a href=\"https://arachnoid.com/jupyter/index.html\">short intro to Jupyter notebooks</a>\n",
    "  * The text cells in this notebook are fomatted using *Markdown*:  \n",
    "  http://daringfireball.net/projects/markdown/syntax\n",
    "\n",
    "\n",
    "## Mirror positions and tunings\n",
    "\n",
    "One of the most crucial aspects in optical interferometery is accurately positioning mirrors. The optical wavelengths we use in current gravitational wave detectors is $\\lambda=1064nm$. Typically we are interested in either **macroscopic** positioning, such as a mirror is 1m, 1cm, 1mm, etc. away, or in **microscopic** positions which are fractions of $\\lambda$. The resonance condition of a Fabry-Perot cavity requires its length to be an integer number of half-wavelengths and for modelling its behaviour length differences $\\ll \\lambda=1064$nm are of interest. Some orders of magnitude:\n",
    "  * LIGO peak senitivity in meters: $\\sim 10^{-20}$ m\n",
    "  * LIGO cavity mirror postion control accuracy: $< 10^{-12}$ m\n",
    "  * LIGO arm cavity length: $\\sim 10^3$ m\n",
    "  * Relative numerical accuracy of floating point numbers: $10^{-15}$\n",
    "\n",
    "As we can see there are many orders of magnitude difference between the lengths of cavities and the types of signal we might measure. With such a large dynamic range typical floating point variables used in computers cannot represent this. Thus we break lengths up into macroscopic and microscopic lengths. The length given by the `space` component are macroscopic and are always rounded to the nearest interger number of $\\lambda$.\n",
    "\n",
    "We change the microscopic length differences in Finesse by changing the mirrors *tuning* value. Tuning is usually refered to in units of degrees, 360 degrees $= \\lambda$. So a tuning of 180 degrees means we have moved the mirror by half a wavelength.\n",
    "You can read more about this in the <a href=\"https://link.springer.com/article/10.1007/s41114-016-0002-8\">Living Review article</a>, section 2.5, \"Lengths and tunings: numerical accuracy of distances\".\n"
   ]
  },
  {
   "cell_type": "code",
   "execution_count": null,
   "metadata": {
    "collapsed": true
   },
   "outputs": [],
   "source": []
  }
 ],
 "metadata": {
  "kernelspec": {
   "display_name": "Python 3",
   "language": "python",
   "name": "python3"
  },
  "language_info": {
   "codemirror_mode": {
    "name": "ipython",
    "version": 3
   },
   "file_extension": ".py",
   "mimetype": "text/x-python",
   "name": "python",
   "nbconvert_exporter": "python",
   "pygments_lexer": "ipython3",
   "version": "3.9.7"
  },
  "nav_menu": {},
  "toc": {
   "navigate_menu": true,
   "number_sections": true,
   "sideBar": true,
   "threshold": 6,
   "toc_cell": false,
   "toc_section_display": "block",
   "toc_window_display": false
  }
 },
 "nbformat": 4,
 "nbformat_minor": 1
}
